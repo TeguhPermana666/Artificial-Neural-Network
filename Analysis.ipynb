{
 "cells": [
  {
   "cell_type": "markdown",
   "metadata": {},
   "source": [
    "# SETUP"
   ]
  },
  {
   "cell_type": "code",
   "execution_count": 8,
   "metadata": {},
   "outputs": [],
   "source": [
    "# python >= 3.5 version\n",
    "import sys\n",
    "assert sys.version_info >= (3,5)\n",
    "\n",
    "# scikit-learn >= 0.20 is required\n",
    "import sklearn \n",
    "assert sklearn.__version__ >= '0.20'\n",
    "\n",
    "# tensorflow >=2.0 is required\n",
    "import tensorflow as tf\n",
    "assert tf.__version__ >= '2.0'\n",
    "\n",
    "# import for manipulate data structure\n",
    "import pandas as pd\n",
    "import numpy as np\n",
    "import os\n",
    "\n",
    "# to make this notebook are stable output accros runs\n",
    "np.random.seed(42)\n",
    "\n",
    "#to plot prety figure\n",
    "import matplotlib as mpl\n",
    "import matplotlib.pyplot as plt\n",
    "mpl.rc('axes', labelsize=14)\n",
    "mpl.rc('xtick', labelsize=12)\n",
    "mpl.rc('ytick', labelsize=12)\n",
    "\n",
    "# save the figure automatic\n",
    "root ='.'\n",
    "chapter_id = 'ann'\n",
    "images_path = os.path.join(root,'images',chapter_id)\n",
    "os.makedirs(images_path,exist_ok=True)\n",
    "\n",
    "def save_fig(fig_id,tigh_layout=True,fig_extension='png',resolution=300):\n",
    "    path = os.path.join(images_path,fig_id+'.'+fig_extension)\n",
    "    print('save figure',fig_id)\n",
    "    if tigh_layout:\n",
    "        plt.tight_layout()\n",
    "    plt.savefig(path,format=fig_extension,resolution=resolution)\n"
   ]
  }
 ],
 "metadata": {
  "interpreter": {
   "hash": "b21892ebdafe3dff83e5313b97a9ee6f28f1dc2886ff01f2f955fb4cde4b09b0"
  },
  "kernelspec": {
   "display_name": "Python 3.9.9 ('env': venv)",
   "language": "python",
   "name": "python3"
  },
  "language_info": {
   "codemirror_mode": {
    "name": "ipython",
    "version": 3
   },
   "file_extension": ".py",
   "mimetype": "text/x-python",
   "name": "python",
   "nbconvert_exporter": "python",
   "pygments_lexer": "ipython3",
   "version": "3.9.9"
  },
  "orig_nbformat": 4
 },
 "nbformat": 4,
 "nbformat_minor": 2
}
