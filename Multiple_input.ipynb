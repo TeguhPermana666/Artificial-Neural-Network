{
 "cells": [
  {
   "cell_type": "code",
   "execution_count": 1,
   "metadata": {},
   "outputs": [],
   "source": [
    "import os \n",
    "import matplotlib.pyplot as plt\n",
    "root = \"\"\n",
    "chapter_id = \"Multiple_input\"\n",
    "images_path = os.path.join(root,\"images\",chapter_id)\n",
    "os.makedirs(images_path,exist_ok=True)\n",
    "def save_fig(fig_id,tigh_layout=True,fig_extension='png',resolution=True):\n",
    "    path = os.path.join(images_path,fig_id+'.'+fig_extension)\n",
    "    print(\"save figure\",fig_id)\n",
    "    if tigh_layout:\n",
    "        plt.tight_layout()\n",
    "    plt.savefig(path,format=fig_extension,resolution=resolution)\n"
   ]
  },
  {
   "cell_type": "code",
   "execution_count": 2,
   "metadata": {},
   "outputs": [
    {
     "name": "stdout",
     "output_type": "stream",
     "text": [
      ".. _california_housing_dataset:\n",
      "\n",
      "California Housing dataset\n",
      "--------------------------\n",
      "\n",
      "**Data Set Characteristics:**\n",
      "\n",
      "    :Number of Instances: 20640\n",
      "\n",
      "    :Number of Attributes: 8 numeric, predictive attributes and the target\n",
      "\n",
      "    :Attribute Information:\n",
      "        - MedInc        median income in block group\n",
      "        - HouseAge      median house age in block group\n",
      "        - AveRooms      average number of rooms per household\n",
      "        - AveBedrms     average number of bedrooms per household\n",
      "        - Population    block group population\n",
      "        - AveOccup      average number of household members\n",
      "        - Latitude      block group latitude\n",
      "        - Longitude     block group longitude\n",
      "\n",
      "    :Missing Attribute Values: None\n",
      "\n",
      "This dataset was obtained from the StatLib repository.\n",
      "https://www.dcc.fc.up.pt/~ltorgo/Regression/cal_housing.html\n",
      "\n",
      "The target variable is the median house value for California districts,\n",
      "expressed in hundreds of thousands of dollars ($100,000).\n",
      "\n",
      "This dataset was derived from the 1990 U.S. census, using one row per census\n",
      "block group. A block group is the smallest geographical unit for which the U.S.\n",
      "Census Bureau publishes sample data (a block group typically has a population\n",
      "of 600 to 3,000 people).\n",
      "\n",
      "An household is a group of people residing within a home. Since the average\n",
      "number of rooms and bedrooms in this dataset are provided per household, these\n",
      "columns may take surpinsingly large values for block groups with few households\n",
      "and many empty houses, such as vacation resorts.\n",
      "\n",
      "It can be downloaded/loaded using the\n",
      ":func:`sklearn.datasets.fetch_california_housing` function.\n",
      "\n",
      ".. topic:: References\n",
      "\n",
      "    - Pace, R. Kelley and Ronald Barry, Sparse Spatial Autoregressions,\n",
      "      Statistics and Probability Letters, 33 (1997) 291-297\n",
      "\n"
     ]
    }
   ],
   "source": [
    "import tensorflow as tf \n",
    "import keras\n",
    "import numpy as np\n",
    "import pandas as pd\n",
    "from sklearn.datasets import fetch_california_housing\n",
    "from sklearn.model_selection import train_test_split\n",
    "from sklearn.preprocessing import StandardScaler\n",
    "\n",
    "housing = fetch_california_housing()\n",
    "print(housing[\"DESCR\"])\n"
   ]
  },
  {
   "cell_type": "code",
   "execution_count": 3,
   "metadata": {},
   "outputs": [],
   "source": [
    "# SPLIT DATA TRAIN FULL AND TESTING \n",
    "X_train_full,X_test,y_train_full,y_test = train_test_split(housing['data'],housing['target'],random_state=42)\n",
    "#SPLIT DATA TRAIN FULL TO TRAIN AND VALIDATION\n",
    "X_train,X_valid,y_train,y_valid = train_test_split(X_train_full,y_train_full,random_state=42)\n",
    "scaler = StandardScaler()\n",
    "X_train = scaler.fit_transform(X_train)\n",
    "X_valid = scaler.fit_transform(X_valid)\n",
    "X_test = scaler.fit_transform(X_test)"
   ]
  },
  {
   "cell_type": "code",
   "execution_count": 4,
   "metadata": {},
   "outputs": [
    {
     "name": "stdout",
     "output_type": "stream",
     "text": [
      "(11610, 8)\n",
      "(3870, 8)\n",
      "(5160, 8)\n"
     ]
    }
   ],
   "source": [
    "print(X_train.shape)\n",
    "print(X_valid.shape)\n",
    "print(X_test.shape)\n"
   ]
  },
  {
   "cell_type": "code",
   "execution_count": 5,
   "metadata": {},
   "outputs": [
    {
     "name": "stdout",
     "output_type": "stream",
     "text": [
      "(11610,)\n",
      "(3870,)\n",
      "(5160,)\n"
     ]
    }
   ],
   "source": [
    "print(y_train.shape)\n",
    "print(y_valid.shape)\n",
    "print(y_test.shape)"
   ]
  },
  {
   "cell_type": "code",
   "execution_count": 6,
   "metadata": {},
   "outputs": [],
   "source": [
    "np.random.seed(42)\n",
    "tf.random.set_seed(42)"
   ]
  },
  {
   "cell_type": "code",
   "execution_count": 8,
   "metadata": {},
   "outputs": [],
   "source": [
    "# nonsequential model \n",
    "input_A = keras.layers.Input(shape=[5],name='wide input')\n",
    "input_B = keras.layers.Input(shape=[6],name='deep input')\n",
    "# untuk flow deep pattern menggunakan functional API -> Ex (input_b),(hidden1)\n",
    "hidden1 = keras.layers.Dense(30,activation='relu')(input_B)\n",
    "hidden2 = keras.layers.Dense(30,activation='relu')(hidden1)\n",
    "# untuk flow wide pattern menggunakan concanate function by 2 or more functional API\n",
    "concat = keras.layers.Concatenate()([input_B,hidden2])\n",
    "# output layers is used by regresion and regresion output is not activation and one neuron pragesteron\n",
    "output = keras.layers.Dense(1,name='output')(concat)\n",
    "model = keras.models.Model(inputs=[input_A,input_B], outputs=[output]) "
   ]
  },
  {
   "cell_type": "code",
   "execution_count": 18,
   "metadata": {},
   "outputs": [
    {
     "data": {
      "text/html": [
       "<div>\n",
       "<style scoped>\n",
       "    .dataframe tbody tr th:only-of-type {\n",
       "        vertical-align: middle;\n",
       "    }\n",
       "\n",
       "    .dataframe tbody tr th {\n",
       "        vertical-align: top;\n",
       "    }\n",
       "\n",
       "    .dataframe thead th {\n",
       "        text-align: right;\n",
       "    }\n",
       "</style>\n",
       "<table border=\"1\" class=\"dataframe\">\n",
       "  <thead>\n",
       "    <tr style=\"text-align: right;\">\n",
       "      <th></th>\n",
       "      <th>0</th>\n",
       "      <th>1</th>\n",
       "      <th>2</th>\n",
       "      <th>3</th>\n",
       "      <th>4</th>\n",
       "      <th>5</th>\n",
       "      <th>6</th>\n",
       "      <th>7</th>\n",
       "    </tr>\n",
       "  </thead>\n",
       "  <tbody>\n",
       "    <tr>\n",
       "      <th>0</th>\n",
       "      <td>-0.193979</td>\n",
       "      <td>-1.077813</td>\n",
       "      <td>-0.943385</td>\n",
       "      <td>0.014853</td>\n",
       "      <td>0.020733</td>\n",
       "      <td>-0.572916</td>\n",
       "      <td>0.929260</td>\n",
       "      <td>-1.422155</td>\n",
       "    </tr>\n",
       "    <tr>\n",
       "      <th>1</th>\n",
       "      <td>0.751983</td>\n",
       "      <td>-1.868895</td>\n",
       "      <td>0.405478</td>\n",
       "      <td>-0.233277</td>\n",
       "      <td>1.861465</td>\n",
       "      <td>0.205165</td>\n",
       "      <td>-0.916547</td>\n",
       "      <td>1.096670</td>\n",
       "    </tr>\n",
       "    <tr>\n",
       "      <th>2</th>\n",
       "      <td>-0.414691</td>\n",
       "      <td>0.029701</td>\n",
       "      <td>0.818088</td>\n",
       "      <td>1.056784</td>\n",
       "      <td>-0.087867</td>\n",
       "      <td>-0.299833</td>\n",
       "      <td>1.308729</td>\n",
       "      <td>-1.697027</td>\n",
       "    </tr>\n",
       "    <tr>\n",
       "      <th>3</th>\n",
       "      <td>1.718896</td>\n",
       "      <td>-1.315138</td>\n",
       "      <td>0.326644</td>\n",
       "      <td>-0.219551</td>\n",
       "      <td>-0.337922</td>\n",
       "      <td>-0.111466</td>\n",
       "      <td>-0.982134</td>\n",
       "      <td>0.941742</td>\n",
       "    </tr>\n",
       "    <tr>\n",
       "      <th>4</th>\n",
       "      <td>-0.962072</td>\n",
       "      <td>-1.236030</td>\n",
       "      <td>-0.056258</td>\n",
       "      <td>-0.031244</td>\n",
       "      <td>1.709059</td>\n",
       "      <td>-0.302570</td>\n",
       "      <td>-0.804112</td>\n",
       "      <td>1.326562</td>\n",
       "    </tr>\n",
       "    <tr>\n",
       "      <th>...</th>\n",
       "      <td>...</td>\n",
       "      <td>...</td>\n",
       "      <td>...</td>\n",
       "      <td>...</td>\n",
       "      <td>...</td>\n",
       "      <td>...</td>\n",
       "      <td>...</td>\n",
       "      <td>...</td>\n",
       "    </tr>\n",
       "    <tr>\n",
       "      <th>11605</th>\n",
       "      <td>-0.814058</td>\n",
       "      <td>0.108810</td>\n",
       "      <td>-0.817233</td>\n",
       "      <td>-0.195044</td>\n",
       "      <td>-0.533220</td>\n",
       "      <td>0.320976</td>\n",
       "      <td>-0.635460</td>\n",
       "      <td>0.566917</td>\n",
       "    </tr>\n",
       "    <tr>\n",
       "      <th>11606</th>\n",
       "      <td>0.107864</td>\n",
       "      <td>1.690973</td>\n",
       "      <td>-0.261893</td>\n",
       "      <td>-0.135849</td>\n",
       "      <td>-0.231147</td>\n",
       "      <td>-0.191147</td>\n",
       "      <td>0.990163</td>\n",
       "      <td>-1.447144</td>\n",
       "    </tr>\n",
       "    <tr>\n",
       "      <th>11607</th>\n",
       "      <td>-1.223323</td>\n",
       "      <td>0.504350</td>\n",
       "      <td>-0.516003</td>\n",
       "      <td>0.258887</td>\n",
       "      <td>0.452397</td>\n",
       "      <td>0.134491</td>\n",
       "      <td>-0.719786</td>\n",
       "      <td>1.146646</td>\n",
       "    </tr>\n",
       "    <tr>\n",
       "      <th>11608</th>\n",
       "      <td>-0.935570</td>\n",
       "      <td>1.849189</td>\n",
       "      <td>-0.108785</td>\n",
       "      <td>-0.061589</td>\n",
       "      <td>-0.057751</td>\n",
       "      <td>-0.013545</td>\n",
       "      <td>0.521684</td>\n",
       "      <td>-0.102771</td>\n",
       "    </tr>\n",
       "    <tr>\n",
       "      <th>11609</th>\n",
       "      <td>0.895860</td>\n",
       "      <td>0.187918</td>\n",
       "      <td>0.299475</td>\n",
       "      <td>-0.156707</td>\n",
       "      <td>-0.171827</td>\n",
       "      <td>-0.178234</td>\n",
       "      <td>1.121337</td>\n",
       "      <td>-1.307209</td>\n",
       "    </tr>\n",
       "  </tbody>\n",
       "</table>\n",
       "<p>11610 rows × 8 columns</p>\n",
       "</div>"
      ],
      "text/plain": [
       "              0         1         2         3         4         5         6  \\\n",
       "0     -0.193979 -1.077813 -0.943385  0.014853  0.020733 -0.572916  0.929260   \n",
       "1      0.751983 -1.868895  0.405478 -0.233277  1.861465  0.205165 -0.916547   \n",
       "2     -0.414691  0.029701  0.818088  1.056784 -0.087867 -0.299833  1.308729   \n",
       "3      1.718896 -1.315138  0.326644 -0.219551 -0.337922 -0.111466 -0.982134   \n",
       "4     -0.962072 -1.236030 -0.056258 -0.031244  1.709059 -0.302570 -0.804112   \n",
       "...         ...       ...       ...       ...       ...       ...       ...   \n",
       "11605 -0.814058  0.108810 -0.817233 -0.195044 -0.533220  0.320976 -0.635460   \n",
       "11606  0.107864  1.690973 -0.261893 -0.135849 -0.231147 -0.191147  0.990163   \n",
       "11607 -1.223323  0.504350 -0.516003  0.258887  0.452397  0.134491 -0.719786   \n",
       "11608 -0.935570  1.849189 -0.108785 -0.061589 -0.057751 -0.013545  0.521684   \n",
       "11609  0.895860  0.187918  0.299475 -0.156707 -0.171827 -0.178234  1.121337   \n",
       "\n",
       "              7  \n",
       "0     -1.422155  \n",
       "1      1.096670  \n",
       "2     -1.697027  \n",
       "3      0.941742  \n",
       "4      1.326562  \n",
       "...         ...  \n",
       "11605  0.566917  \n",
       "11606 -1.447144  \n",
       "11607  1.146646  \n",
       "11608 -0.102771  \n",
       "11609 -1.307209  \n",
       "\n",
       "[11610 rows x 8 columns]"
      ]
     },
     "execution_count": 18,
     "metadata": {},
     "output_type": "execute_result"
    }
   ],
   "source": [
    "pd.DataFrame(X_train[:])"
   ]
  },
  {
   "cell_type": "code",
   "execution_count": 19,
   "metadata": {},
   "outputs": [
    {
     "name": "stdout",
     "output_type": "stream",
     "text": [
      "Epoch 1/20\n",
      "363/363 [==============================] - 2s 1ms/step - loss: 2.3481 - val_loss: 1.2978\n",
      "Epoch 2/20\n",
      "363/363 [==============================] - 0s 948us/step - loss: 1.1960 - val_loss: 1.1392\n",
      "Epoch 3/20\n",
      "363/363 [==============================] - 0s 954us/step - loss: 1.0720 - val_loss: 1.0409\n",
      "Epoch 4/20\n",
      "363/363 [==============================] - 0s 946us/step - loss: 0.9791 - val_loss: 0.9649\n",
      "Epoch 5/20\n",
      "363/363 [==============================] - 0s 934us/step - loss: 0.9009 - val_loss: 0.8946\n",
      "Epoch 6/20\n",
      "363/363 [==============================] - 0s 1ms/step - loss: 0.8360 - val_loss: 0.8526\n",
      "Epoch 7/20\n",
      "363/363 [==============================] - 0s 937us/step - loss: 0.7826 - val_loss: 0.8018\n",
      "Epoch 8/20\n",
      "363/363 [==============================] - 0s 935us/step - loss: 0.7410 - val_loss: 0.7735\n",
      "Epoch 9/20\n",
      "363/363 [==============================] - 0s 978us/step - loss: 0.7038 - val_loss: 0.7572\n",
      "Epoch 10/20\n",
      "363/363 [==============================] - 0s 943us/step - loss: 0.6792 - val_loss: 0.7359\n",
      "Epoch 11/20\n",
      "363/363 [==============================] - 0s 963us/step - loss: 0.6566 - val_loss: 0.7222\n",
      "Epoch 12/20\n",
      "363/363 [==============================] - 0s 1ms/step - loss: 0.6422 - val_loss: 0.7128\n",
      "Epoch 13/20\n",
      "363/363 [==============================] - 0s 958us/step - loss: 0.6309 - val_loss: 0.7053\n",
      "Epoch 14/20\n",
      "363/363 [==============================] - 0s 935us/step - loss: 0.6200 - val_loss: 0.6987\n",
      "Epoch 15/20\n",
      "363/363 [==============================] - 0s 948us/step - loss: 0.6112 - val_loss: 0.6948\n",
      "Epoch 16/20\n",
      "363/363 [==============================] - 0s 941us/step - loss: 0.6042 - val_loss: 0.6878\n",
      "Epoch 17/20\n",
      "363/363 [==============================] - 0s 930us/step - loss: 0.5968 - val_loss: 0.6869\n",
      "Epoch 18/20\n",
      "363/363 [==============================] - 0s 938us/step - loss: 0.5904 - val_loss: 0.6809\n",
      "Epoch 19/20\n",
      "363/363 [==============================] - 0s 936us/step - loss: 0.5846 - val_loss: 0.6790\n",
      "Epoch 20/20\n",
      "363/363 [==============================] - 0s 1ms/step - loss: 0.5790 - val_loss: 0.6767\n"
     ]
    }
   ],
   "source": [
    "model.compile(loss= 'mse', optimizer=keras.optimizers.SGD(learning_rate=1e-3))\n",
    "\n",
    "X_train_A,X_train_B = X_train[:,:5],X_train[:,2:] # 5, 6\n",
    "X_valid_A, X_valid_B = X_valid[:,:5], X_valid[:,2:] # 5, 6\n",
    "X_test_A,X_test_B = X_test[:,:5], X_test[:,2:] # 5, 6\n",
    "\n",
    "history = model.fit([X_train_A,X_train_B],y_train,\n",
    "                    epochs=20, validation_data=[[X_valid_A,X_valid_B],y_valid])\n"
   ]
  },
  {
   "cell_type": "code",
   "execution_count": 21,
   "metadata": {},
   "outputs": [
    {
     "name": "stdout",
     "output_type": "stream",
     "text": [
      "162/162 [==============================] - 0s 981us/step - loss: 0.5885\n"
     ]
    }
   ],
   "source": [
    "mse_test = model.evaluate([X_test_A,X_test_B],y_test)"
   ]
  },
  {
   "cell_type": "code",
   "execution_count": 23,
   "metadata": {},
   "outputs": [
    {
     "name": "stdout",
     "output_type": "stream",
     "text": [
      "1/1 [==============================] - 0s 15ms/step\n"
     ]
    },
    {
     "data": {
      "text/plain": [
       "array([[0.6312093],\n",
       "       [2.2229507],\n",
       "       [3.271921 ]], dtype=float32)"
      ]
     },
     "execution_count": 23,
     "metadata": {},
     "output_type": "execute_result"
    }
   ],
   "source": [
    "X_new_A,X_new_B = X_test_A[:3], X_test_B[:3]  \n",
    "y_pred = model.predict([X_new_A,X_new_B])\n",
    "y_pred"
   ]
  },
  {
   "cell_type": "code",
   "execution_count": 24,
   "metadata": {},
   "outputs": [
    {
     "data": {
      "text/plain": [
       "array([0.477  , 0.458  , 5.00001])"
      ]
     },
     "execution_count": 24,
     "metadata": {},
     "output_type": "execute_result"
    }
   ],
   "source": [
    "y_test[:3]"
   ]
  }
 ],
 "metadata": {
  "kernelspec": {
   "display_name": "Python 3.9.9 ('env': venv)",
   "language": "python",
   "name": "python3"
  },
  "language_info": {
   "codemirror_mode": {
    "name": "ipython",
    "version": 3
   },
   "file_extension": ".py",
   "mimetype": "text/x-python",
   "name": "python",
   "nbconvert_exporter": "python",
   "pygments_lexer": "ipython3",
   "version": "3.9.9"
  },
  "orig_nbformat": 4,
  "vscode": {
   "interpreter": {
    "hash": "b21892ebdafe3dff83e5313b97a9ee6f28f1dc2886ff01f2f955fb4cde4b09b0"
   }
  }
 },
 "nbformat": 4,
 "nbformat_minor": 2
}
