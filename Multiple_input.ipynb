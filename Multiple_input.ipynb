{
 "cells": [
  {
   "cell_type": "code",
   "execution_count": 59,
   "metadata": {},
   "outputs": [],
   "source": [
    "import os \n",
    "import matplotlib.pyplot as plt\n",
    "root = \"\"\n",
    "chapter_id = \"Multiple_input\"\n",
    "images_path = os.path.join(root,\"images\",chapter_id)\n",
    "os.makedirs(images_path,exist_ok=True)\n",
    "def save_fig(fig_id,tigh_layout=True,fig_extension='png',resolution=True):\n",
    "    path = os.path.join(images_path,fig_id+'.'+fig_extension)\n",
    "    print(\"save figure\",fig_id)\n",
    "    if tigh_layout:\n",
    "        plt.tight_layout()\n",
    "    plt.savefig(path,format=fig_extension,resolution=resolution)\n"
   ]
  },
  {
   "cell_type": "code",
   "execution_count": 60,
   "metadata": {},
   "outputs": [
    {
     "name": "stdout",
     "output_type": "stream",
     "text": [
      ".. _california_housing_dataset:\n",
      "\n",
      "California Housing dataset\n",
      "--------------------------\n",
      "\n",
      "**Data Set Characteristics:**\n",
      "\n",
      "    :Number of Instances: 20640\n",
      "\n",
      "    :Number of Attributes: 8 numeric, predictive attributes and the target\n",
      "\n",
      "    :Attribute Information:\n",
      "        - MedInc        median income in block group\n",
      "        - HouseAge      median house age in block group\n",
      "        - AveRooms      average number of rooms per household\n",
      "        - AveBedrms     average number of bedrooms per household\n",
      "        - Population    block group population\n",
      "        - AveOccup      average number of household members\n",
      "        - Latitude      block group latitude\n",
      "        - Longitude     block group longitude\n",
      "\n",
      "    :Missing Attribute Values: None\n",
      "\n",
      "This dataset was obtained from the StatLib repository.\n",
      "https://www.dcc.fc.up.pt/~ltorgo/Regression/cal_housing.html\n",
      "\n",
      "The target variable is the median house value for California districts,\n",
      "expressed in hundreds of thousands of dollars ($100,000).\n",
      "\n",
      "This dataset was derived from the 1990 U.S. census, using one row per census\n",
      "block group. A block group is the smallest geographical unit for which the U.S.\n",
      "Census Bureau publishes sample data (a block group typically has a population\n",
      "of 600 to 3,000 people).\n",
      "\n",
      "An household is a group of people residing within a home. Since the average\n",
      "number of rooms and bedrooms in this dataset are provided per household, these\n",
      "columns may take surpinsingly large values for block groups with few households\n",
      "and many empty houses, such as vacation resorts.\n",
      "\n",
      "It can be downloaded/loaded using the\n",
      ":func:`sklearn.datasets.fetch_california_housing` function.\n",
      "\n",
      ".. topic:: References\n",
      "\n",
      "    - Pace, R. Kelley and Ronald Barry, Sparse Spatial Autoregressions,\n",
      "      Statistics and Probability Letters, 33 (1997) 291-297\n",
      "\n"
     ]
    }
   ],
   "source": [
    "import tensorflow as tf \n",
    "import keras\n",
    "import numpy as np\n",
    "import pandas as pd\n",
    "from sklearn.datasets import fetch_california_housing\n",
    "from sklearn.model_selection import train_test_split\n",
    "from sklearn.preprocessing import StandardScaler\n",
    "\n",
    "housing = fetch_california_housing()\n",
    "print(housing[\"DESCR\"])\n"
   ]
  },
  {
   "cell_type": "code",
   "execution_count": 61,
   "metadata": {},
   "outputs": [],
   "source": [
    "# SPLIT DATA TRAIN FULL AND TESTING \n",
    "X_train_full,X_test,y_train_full,y_test = train_test_split(housing['data'],housing['target'],random_state=42)\n",
    "#SPLIT DATA TRAIN FULL TO TRAIN AND VALIDATION\n",
    "X_train,X_valid,y_train,y_valid = train_test_split(X_train_full,y_train_full,random_state=42)\n",
    "scaler = StandardScaler()\n",
    "X_train = scaler.fit_transform(X_train)\n",
    "X_valid = scaler.fit_transform(X_valid)\n",
    "X_test = scaler.fit_transform(X_test)"
   ]
  },
  {
   "cell_type": "code",
   "execution_count": 62,
   "metadata": {},
   "outputs": [
    {
     "name": "stdout",
     "output_type": "stream",
     "text": [
      "(11610, 8)\n",
      "(3870, 8)\n",
      "(5160, 8)\n"
     ]
    }
   ],
   "source": [
    "print(X_train.shape)\n",
    "print(X_valid.shape)\n",
    "print(X_test.shape)\n"
   ]
  },
  {
   "cell_type": "code",
   "execution_count": 63,
   "metadata": {},
   "outputs": [
    {
     "name": "stdout",
     "output_type": "stream",
     "text": [
      "(11610,)\n",
      "(3870,)\n",
      "(5160,)\n"
     ]
    }
   ],
   "source": [
    "print(y_train.shape)\n",
    "print(y_valid.shape)\n",
    "print(y_test.shape)"
   ]
  },
  {
   "cell_type": "code",
   "execution_count": 64,
   "metadata": {},
   "outputs": [],
   "source": [
    "np.random.seed(42)\n",
    "tf.random.set_seed(42)"
   ]
  },
  {
   "cell_type": "code",
   "execution_count": 65,
   "metadata": {},
   "outputs": [],
   "source": [
    "# nonsequential model \n",
    "input_A = keras.layers.Input(shape=[5],name='wide input')\n",
    "input_B = keras.layers.Input(shape=[6],name='deep input')\n",
    "# untuk flow deep pattern menggunakan functional API -> Ex (input_b),(hidden1)\n",
    "hidden1 = keras.layers.Dense(30,activation='relu')(input_B)\n",
    "hidden2 = keras.layers.Dense(30,activation='relu')(hidden1)\n",
    "# untuk flow wide pattern menggunakan concanate function by 2 or more functional API\n",
    "concat = keras.layers.Concatenate()([input_B,hidden2])\n",
    "# output layers is used by regresion and regresion output is not activation and one neuron pragesteron\n",
    "output = keras.layers.Dense(1,name='output')(concat)\n",
    "model = keras.models.Model(inputs=[input_A,input_B], outputs=[output]) "
   ]
  },
  {
   "cell_type": "code",
   "execution_count": 66,
   "metadata": {},
   "outputs": [
    {
     "data": {
      "text/html": [
       "<div>\n",
       "<style scoped>\n",
       "    .dataframe tbody tr th:only-of-type {\n",
       "        vertical-align: middle;\n",
       "    }\n",
       "\n",
       "    .dataframe tbody tr th {\n",
       "        vertical-align: top;\n",
       "    }\n",
       "\n",
       "    .dataframe thead th {\n",
       "        text-align: right;\n",
       "    }\n",
       "</style>\n",
       "<table border=\"1\" class=\"dataframe\">\n",
       "  <thead>\n",
       "    <tr style=\"text-align: right;\">\n",
       "      <th></th>\n",
       "      <th>0</th>\n",
       "      <th>1</th>\n",
       "      <th>2</th>\n",
       "      <th>3</th>\n",
       "      <th>4</th>\n",
       "      <th>5</th>\n",
       "      <th>6</th>\n",
       "      <th>7</th>\n",
       "    </tr>\n",
       "  </thead>\n",
       "  <tbody>\n",
       "    <tr>\n",
       "      <th>0</th>\n",
       "      <td>-0.193979</td>\n",
       "      <td>-1.077813</td>\n",
       "      <td>-0.943385</td>\n",
       "      <td>0.014853</td>\n",
       "      <td>0.020733</td>\n",
       "      <td>-0.572916</td>\n",
       "      <td>0.929260</td>\n",
       "      <td>-1.422155</td>\n",
       "    </tr>\n",
       "    <tr>\n",
       "      <th>1</th>\n",
       "      <td>0.751983</td>\n",
       "      <td>-1.868895</td>\n",
       "      <td>0.405478</td>\n",
       "      <td>-0.233277</td>\n",
       "      <td>1.861465</td>\n",
       "      <td>0.205165</td>\n",
       "      <td>-0.916547</td>\n",
       "      <td>1.096670</td>\n",
       "    </tr>\n",
       "    <tr>\n",
       "      <th>2</th>\n",
       "      <td>-0.414691</td>\n",
       "      <td>0.029701</td>\n",
       "      <td>0.818088</td>\n",
       "      <td>1.056784</td>\n",
       "      <td>-0.087867</td>\n",
       "      <td>-0.299833</td>\n",
       "      <td>1.308729</td>\n",
       "      <td>-1.697027</td>\n",
       "    </tr>\n",
       "    <tr>\n",
       "      <th>3</th>\n",
       "      <td>1.718896</td>\n",
       "      <td>-1.315138</td>\n",
       "      <td>0.326644</td>\n",
       "      <td>-0.219551</td>\n",
       "      <td>-0.337922</td>\n",
       "      <td>-0.111466</td>\n",
       "      <td>-0.982134</td>\n",
       "      <td>0.941742</td>\n",
       "    </tr>\n",
       "    <tr>\n",
       "      <th>4</th>\n",
       "      <td>-0.962072</td>\n",
       "      <td>-1.236030</td>\n",
       "      <td>-0.056258</td>\n",
       "      <td>-0.031244</td>\n",
       "      <td>1.709059</td>\n",
       "      <td>-0.302570</td>\n",
       "      <td>-0.804112</td>\n",
       "      <td>1.326562</td>\n",
       "    </tr>\n",
       "    <tr>\n",
       "      <th>...</th>\n",
       "      <td>...</td>\n",
       "      <td>...</td>\n",
       "      <td>...</td>\n",
       "      <td>...</td>\n",
       "      <td>...</td>\n",
       "      <td>...</td>\n",
       "      <td>...</td>\n",
       "      <td>...</td>\n",
       "    </tr>\n",
       "    <tr>\n",
       "      <th>11605</th>\n",
       "      <td>-0.814058</td>\n",
       "      <td>0.108810</td>\n",
       "      <td>-0.817233</td>\n",
       "      <td>-0.195044</td>\n",
       "      <td>-0.533220</td>\n",
       "      <td>0.320976</td>\n",
       "      <td>-0.635460</td>\n",
       "      <td>0.566917</td>\n",
       "    </tr>\n",
       "    <tr>\n",
       "      <th>11606</th>\n",
       "      <td>0.107864</td>\n",
       "      <td>1.690973</td>\n",
       "      <td>-0.261893</td>\n",
       "      <td>-0.135849</td>\n",
       "      <td>-0.231147</td>\n",
       "      <td>-0.191147</td>\n",
       "      <td>0.990163</td>\n",
       "      <td>-1.447144</td>\n",
       "    </tr>\n",
       "    <tr>\n",
       "      <th>11607</th>\n",
       "      <td>-1.223323</td>\n",
       "      <td>0.504350</td>\n",
       "      <td>-0.516003</td>\n",
       "      <td>0.258887</td>\n",
       "      <td>0.452397</td>\n",
       "      <td>0.134491</td>\n",
       "      <td>-0.719786</td>\n",
       "      <td>1.146646</td>\n",
       "    </tr>\n",
       "    <tr>\n",
       "      <th>11608</th>\n",
       "      <td>-0.935570</td>\n",
       "      <td>1.849189</td>\n",
       "      <td>-0.108785</td>\n",
       "      <td>-0.061589</td>\n",
       "      <td>-0.057751</td>\n",
       "      <td>-0.013545</td>\n",
       "      <td>0.521684</td>\n",
       "      <td>-0.102771</td>\n",
       "    </tr>\n",
       "    <tr>\n",
       "      <th>11609</th>\n",
       "      <td>0.895860</td>\n",
       "      <td>0.187918</td>\n",
       "      <td>0.299475</td>\n",
       "      <td>-0.156707</td>\n",
       "      <td>-0.171827</td>\n",
       "      <td>-0.178234</td>\n",
       "      <td>1.121337</td>\n",
       "      <td>-1.307209</td>\n",
       "    </tr>\n",
       "  </tbody>\n",
       "</table>\n",
       "<p>11610 rows × 8 columns</p>\n",
       "</div>"
      ],
      "text/plain": [
       "              0         1         2         3         4         5         6  \\\n",
       "0     -0.193979 -1.077813 -0.943385  0.014853  0.020733 -0.572916  0.929260   \n",
       "1      0.751983 -1.868895  0.405478 -0.233277  1.861465  0.205165 -0.916547   \n",
       "2     -0.414691  0.029701  0.818088  1.056784 -0.087867 -0.299833  1.308729   \n",
       "3      1.718896 -1.315138  0.326644 -0.219551 -0.337922 -0.111466 -0.982134   \n",
       "4     -0.962072 -1.236030 -0.056258 -0.031244  1.709059 -0.302570 -0.804112   \n",
       "...         ...       ...       ...       ...       ...       ...       ...   \n",
       "11605 -0.814058  0.108810 -0.817233 -0.195044 -0.533220  0.320976 -0.635460   \n",
       "11606  0.107864  1.690973 -0.261893 -0.135849 -0.231147 -0.191147  0.990163   \n",
       "11607 -1.223323  0.504350 -0.516003  0.258887  0.452397  0.134491 -0.719786   \n",
       "11608 -0.935570  1.849189 -0.108785 -0.061589 -0.057751 -0.013545  0.521684   \n",
       "11609  0.895860  0.187918  0.299475 -0.156707 -0.171827 -0.178234  1.121337   \n",
       "\n",
       "              7  \n",
       "0     -1.422155  \n",
       "1      1.096670  \n",
       "2     -1.697027  \n",
       "3      0.941742  \n",
       "4      1.326562  \n",
       "...         ...  \n",
       "11605  0.566917  \n",
       "11606 -1.447144  \n",
       "11607  1.146646  \n",
       "11608 -0.102771  \n",
       "11609 -1.307209  \n",
       "\n",
       "[11610 rows x 8 columns]"
      ]
     },
     "execution_count": 66,
     "metadata": {},
     "output_type": "execute_result"
    }
   ],
   "source": [
    "pd.DataFrame(X_train[:])"
   ]
  },
  {
   "cell_type": "code",
   "execution_count": 67,
   "metadata": {},
   "outputs": [
    {
     "name": "stdout",
     "output_type": "stream",
     "text": [
      "Epoch 1/20\n",
      "363/363 [==============================] - 1s 1ms/step - loss: 1.9569 - val_loss: 1.1680\n",
      "Epoch 2/20\n",
      "363/363 [==============================] - 0s 920us/step - loss: 1.0952 - val_loss: 1.0192\n",
      "Epoch 3/20\n",
      "363/363 [==============================] - 0s 931us/step - loss: 0.9697 - val_loss: 0.9256\n",
      "Epoch 4/20\n",
      "363/363 [==============================] - 0s 918us/step - loss: 0.8756 - val_loss: 0.8688\n",
      "Epoch 5/20\n",
      "363/363 [==============================] - 0s 928us/step - loss: 0.8072 - val_loss: 0.7991\n",
      "Epoch 6/20\n",
      "363/363 [==============================] - 0s 920us/step - loss: 0.7569 - val_loss: 0.8284\n",
      "Epoch 7/20\n",
      "363/363 [==============================] - 0s 934us/step - loss: 0.7237 - val_loss: 0.7381\n",
      "Epoch 8/20\n",
      "363/363 [==============================] - 0s 917us/step - loss: 0.6975 - val_loss: 0.7340\n",
      "Epoch 9/20\n",
      "363/363 [==============================] - 0s 936us/step - loss: 0.6695 - val_loss: 0.7559\n",
      "Epoch 10/20\n",
      "363/363 [==============================] - 0s 925us/step - loss: 0.6574 - val_loss: 0.7042\n",
      "Epoch 11/20\n",
      "363/363 [==============================] - 0s 913us/step - loss: 0.6299 - val_loss: 0.6896\n",
      "Epoch 12/20\n",
      "363/363 [==============================] - 0s 940us/step - loss: 0.6206 - val_loss: 0.6870\n",
      "Epoch 13/20\n",
      "363/363 [==============================] - 0s 926us/step - loss: 0.6107 - val_loss: 0.6839\n",
      "Epoch 14/20\n",
      "363/363 [==============================] - 0s 918us/step - loss: 0.6013 - val_loss: 0.6771\n",
      "Epoch 15/20\n",
      "363/363 [==============================] - 0s 934us/step - loss: 0.5921 - val_loss: 0.6721\n",
      "Epoch 16/20\n",
      "363/363 [==============================] - 0s 928us/step - loss: 0.5886 - val_loss: 0.6702\n",
      "Epoch 17/20\n",
      "363/363 [==============================] - 0s 915us/step - loss: 0.5815 - val_loss: 0.6722\n",
      "Epoch 18/20\n",
      "363/363 [==============================] - 0s 959us/step - loss: 0.5769 - val_loss: 0.6644\n",
      "Epoch 19/20\n",
      "363/363 [==============================] - 0s 1ms/step - loss: 0.5679 - val_loss: 0.6615\n",
      "Epoch 20/20\n",
      "363/363 [==============================] - 0s 931us/step - loss: 0.5658 - val_loss: 0.6557\n"
     ]
    }
   ],
   "source": [
    "model.compile(loss= 'mse', optimizer=keras.optimizers.SGD(learning_rate=1e-3))\n",
    "\n",
    "X_train_A,X_train_B = X_train[:,:5],X_train[:,2:] # 5, 6\n",
    "X_valid_A, X_valid_B = X_valid[:,:5], X_valid[:,2:] # 5, 6\n",
    "X_test_A,X_test_B = X_test[:,:5], X_test[:,2:] # 5, 6\n",
    "\n",
    "history = model.fit([X_train_A,X_train_B],y_train,\n",
    "                    epochs=20, validation_data=[[X_valid_A,X_valid_B],y_valid])\n"
   ]
  },
  {
   "cell_type": "code",
   "execution_count": 68,
   "metadata": {},
   "outputs": [
    {
     "name": "stdout",
     "output_type": "stream",
     "text": [
      "162/162 [==============================] - 0s 676us/step - loss: 0.5738\n"
     ]
    }
   ],
   "source": [
    "mse_test = model.evaluate([X_test_A,X_test_B],y_test)"
   ]
  },
  {
   "cell_type": "code",
   "execution_count": 69,
   "metadata": {},
   "outputs": [
    {
     "name": "stdout",
     "output_type": "stream",
     "text": [
      "1/1 [==============================] - 0s 38ms/step\n"
     ]
    },
    {
     "data": {
      "text/plain": [
       "array([[0.53181905],\n",
       "       [2.40726   ],\n",
       "       [3.4542665 ]], dtype=float32)"
      ]
     },
     "execution_count": 69,
     "metadata": {},
     "output_type": "execute_result"
    }
   ],
   "source": [
    "X_new_A,X_new_B = X_test_A[:3], X_test_B[:3]  \n",
    "y_pred = model.predict([X_new_A,X_new_B])\n",
    "y_pred"
   ]
  },
  {
   "cell_type": "code",
   "execution_count": 70,
   "metadata": {},
   "outputs": [
    {
     "data": {
      "text/plain": [
       "array([0.477  , 0.458  , 5.00001])"
      ]
     },
     "execution_count": 70,
     "metadata": {},
     "output_type": "execute_result"
    }
   ],
   "source": [
    "y_test[:3]"
   ]
  },
  {
   "cell_type": "markdown",
   "metadata": {},
   "source": [
    "# Aux Output ( more of one output)\n",
    "\n",
    "digunakan untuk melakukan sebuah regulaztion pada main output jadi dapat diartikan bahwa set sebuah loss weights main lebih baik daripada loss weights aux out pada proses back progation"
   ]
  },
  {
   "cell_type": "code",
   "execution_count": 71,
   "metadata": {},
   "outputs": [],
   "source": [
    "# nonsequential model \n",
    "input_A = keras.layers.Input(shape=[5],name='wide input')\n",
    "input_B = keras.layers.Input(shape=[6],name='deep input')\n",
    "# untuk flow deep pattern menggunakan functional API -> Ex (input_b),(hidden1)\n",
    "hidden1 = keras.layers.Dense(30,activation='relu')(input_B)\n",
    "hidden2 = keras.layers.Dense(30,activation='relu')(hidden1)\n",
    "# untuk flow wide pattern menggunakan concanate function by 2 or more functional API\n",
    "concat = keras.layers.Concatenate()([input_B,hidden2])\n",
    "# output layers is used by regresion and regresion output is not activation and one neuron pragesteron\n",
    "output = keras.layers.Dense(1,name='output')(concat)\n",
    "aux_output = keras.layers.Dense(1,name='aux_output')(hidden2)\n",
    "model2 = keras.models.Model(inputs=[input_A,input_B], outputs=[output,aux_output]) "
   ]
  },
  {
   "cell_type": "code",
   "execution_count": 72,
   "metadata": {},
   "outputs": [],
   "source": [
    "model2.compile(loss=['mse','mse'],loss_weights=[0.9,0.1],optimizer=keras.optimizers.SGD(learning_rate=1e-3))"
   ]
  },
  {
   "cell_type": "code",
   "execution_count": 73,
   "metadata": {},
   "outputs": [
    {
     "name": "stdout",
     "output_type": "stream",
     "text": [
      "Epoch 1/20\n",
      "363/363 [==============================] - 1s 1ms/step - loss: 2.6157 - output_loss: 2.4374 - aux_output_loss: 4.2199 - val_loss: 1.4934 - val_output_loss: 1.3192 - val_aux_output_loss: 3.0608\n",
      "Epoch 2/20\n",
      "363/363 [==============================] - 0s 1ms/step - loss: 1.3574 - output_loss: 1.2187 - aux_output_loss: 2.6057 - val_loss: 1.2556 - val_output_loss: 1.1639 - val_aux_output_loss: 2.0805\n",
      "Epoch 3/20\n",
      "363/363 [==============================] - 0s 1ms/step - loss: 1.1791 - output_loss: 1.0974 - aux_output_loss: 1.9141 - val_loss: 1.1281 - val_output_loss: 1.0676 - val_aux_output_loss: 1.6728\n",
      "Epoch 4/20\n",
      "363/363 [==============================] - 0s 1ms/step - loss: 1.0678 - output_loss: 1.0086 - aux_output_loss: 1.6007 - val_loss: 1.0389 - val_output_loss: 0.9904 - val_aux_output_loss: 1.4760\n",
      "Epoch 5/20\n",
      "363/363 [==============================] - 0s 1ms/step - loss: 0.9817 - output_loss: 0.9313 - aux_output_loss: 1.4358 - val_loss: 0.9637 - val_output_loss: 0.9188 - val_aux_output_loss: 1.3685\n",
      "Epoch 6/20\n",
      "363/363 [==============================] - 0s 1ms/step - loss: 0.9112 - output_loss: 0.8636 - aux_output_loss: 1.3395 - val_loss: 0.9140 - val_output_loss: 0.8725 - val_aux_output_loss: 1.2881\n",
      "Epoch 7/20\n",
      "363/363 [==============================] - 0s 1ms/step - loss: 0.8523 - output_loss: 0.8070 - aux_output_loss: 1.2594 - val_loss: 0.8617 - val_output_loss: 0.8213 - val_aux_output_loss: 1.2249\n",
      "Epoch 8/20\n",
      "363/363 [==============================] - 0s 1ms/step - loss: 0.8066 - output_loss: 0.7635 - aux_output_loss: 1.1946 - val_loss: 0.8283 - val_output_loss: 0.7902 - val_aux_output_loss: 1.1720\n",
      "Epoch 9/20\n",
      "363/363 [==============================] - 0s 1ms/step - loss: 0.7655 - output_loss: 0.7239 - aux_output_loss: 1.1402 - val_loss: 0.8057 - val_output_loss: 0.7708 - val_aux_output_loss: 1.1199\n",
      "Epoch 10/20\n",
      "363/363 [==============================] - 0s 1ms/step - loss: 0.7350 - output_loss: 0.6959 - aux_output_loss: 1.0873 - val_loss: 0.7802 - val_output_loss: 0.7476 - val_aux_output_loss: 1.0735\n",
      "Epoch 11/20\n",
      "363/363 [==============================] - 0s 1ms/step - loss: 0.7072 - output_loss: 0.6705 - aux_output_loss: 1.0372 - val_loss: 0.7639 - val_output_loss: 0.7337 - val_aux_output_loss: 1.0354\n",
      "Epoch 12/20\n",
      "363/363 [==============================] - 0s 1ms/step - loss: 0.6886 - output_loss: 0.6539 - aux_output_loss: 1.0005 - val_loss: 0.7507 - val_output_loss: 0.7231 - val_aux_output_loss: 0.9999\n",
      "Epoch 13/20\n",
      "363/363 [==============================] - 0s 1ms/step - loss: 0.6730 - output_loss: 0.6407 - aux_output_loss: 0.9639 - val_loss: 0.7416 - val_output_loss: 0.7162 - val_aux_output_loss: 0.9710\n",
      "Epoch 14/20\n",
      "363/363 [==============================] - 0s 1ms/step - loss: 0.6587 - output_loss: 0.6281 - aux_output_loss: 0.9334 - val_loss: 0.7326 - val_output_loss: 0.7091 - val_aux_output_loss: 0.9446\n",
      "Epoch 15/20\n",
      "363/363 [==============================] - 0s 1ms/step - loss: 0.6472 - output_loss: 0.6185 - aux_output_loss: 0.9048 - val_loss: 0.7243 - val_output_loss: 0.7025 - val_aux_output_loss: 0.9204\n",
      "Epoch 16/20\n",
      "363/363 [==============================] - 0s 1ms/step - loss: 0.6376 - output_loss: 0.6106 - aux_output_loss: 0.8804 - val_loss: 0.7166 - val_output_loss: 0.6965 - val_aux_output_loss: 0.8971\n",
      "Epoch 17/20\n",
      "363/363 [==============================] - 0s 1ms/step - loss: 0.6291 - output_loss: 0.6037 - aux_output_loss: 0.8577 - val_loss: 0.7130 - val_output_loss: 0.6945 - val_aux_output_loss: 0.8793\n",
      "Epoch 18/20\n",
      "363/363 [==============================] - 0s 1ms/step - loss: 0.6211 - output_loss: 0.5970 - aux_output_loss: 0.8379 - val_loss: 0.7064 - val_output_loss: 0.6892 - val_aux_output_loss: 0.8611\n",
      "Epoch 19/20\n",
      "363/363 [==============================] - 0s 1ms/step - loss: 0.6144 - output_loss: 0.5916 - aux_output_loss: 0.8190 - val_loss: 0.7021 - val_output_loss: 0.6859 - val_aux_output_loss: 0.8471\n",
      "Epoch 20/20\n",
      "363/363 [==============================] - 0s 1ms/step - loss: 0.6076 - output_loss: 0.5860 - aux_output_loss: 0.8028 - val_loss: 0.6981 - val_output_loss: 0.6835 - val_aux_output_loss: 0.8295\n"
     ]
    }
   ],
   "source": [
    "# train model with the regulazation (aux output), maka label juga akan di petakan 2\n",
    "# sebanyak sbeuah output dalam module\n",
    "history = model2.fit([X_train_A,X_train_B],[y_train,y_train],epochs=20,\n",
    "                     validation_data=([X_valid_A,X_valid_B],[y_valid,y_valid]))\n"
   ]
  },
  {
   "cell_type": "markdown",
   "metadata": {},
   "source": [
    "diliha pada hasil bahwa hasil dari loss - output loss bahwa loss lebih generalized daripada output loss dikarenakan pada loss sudah di generalized oleh aux loss"
   ]
  },
  {
   "cell_type": "code",
   "execution_count": 78,
   "metadata": {},
   "outputs": [
    {
     "name": "stdout",
     "output_type": "stream",
     "text": [
      "162/162 [==============================] - 0s 789us/step - loss: 0.6110 - output_loss: 0.5930 - aux_output_loss: 0.7729\n"
     ]
    }
   ],
   "source": [
    "# baiklah untuk menguji pernyataan diatas maka dpt dilakukan sebuah evaluation\n",
    "total_loss, main_loss, aux_loss = model2.evaluate(\n",
    "    [X_test_A,X_test_B], [y_test,y_test]\n",
    ")"
   ]
  },
  {
   "cell_type": "markdown",
   "metadata": {},
   "source": [
    "pada hasil bahwa pernyataan diatas sudah teruji benar"
   ]
  },
  {
   "cell_type": "code",
   "execution_count": 79,
   "metadata": {},
   "outputs": [
    {
     "name": "stdout",
     "output_type": "stream",
     "text": [
      "WARNING:tensorflow:5 out of the last 7 calls to <function Model.make_predict_function.<locals>.predict_function at 0x000002946956E700> triggered tf.function retracing. Tracing is expensive and the excessive number of tracings could be due to (1) creating @tf.function repeatedly in a loop, (2) passing tensors with different shapes, (3) passing Python objects instead of tensors. For (1), please define your @tf.function outside of the loop. For (2), @tf.function has reduce_retracing=True option that can avoid unnecessary retracing. For (3), please refer to https://www.tensorflow.org/guide/function#controlling_retracing and https://www.tensorflow.org/api_docs/python/tf/function for  more details.\n",
      "1/1 [==============================] - 0s 51ms/step\n"
     ]
    }
   ],
   "source": [
    "y_pred_main,y_pred_aux = model2.predict([X_new_A,X_new_B])"
   ]
  },
  {
   "cell_type": "code",
   "execution_count": 80,
   "metadata": {},
   "outputs": [
    {
     "data": {
      "text/plain": [
       "array([[0.57686096],\n",
       "       [2.2446363 ],\n",
       "       [3.3115287 ]], dtype=float32)"
      ]
     },
     "execution_count": 80,
     "metadata": {},
     "output_type": "execute_result"
    }
   ],
   "source": [
    "y_pred_main"
   ]
  },
  {
   "cell_type": "code",
   "execution_count": 81,
   "metadata": {},
   "outputs": [
    {
     "data": {
      "text/plain": [
       "array([[1.0740728],\n",
       "       [1.9889667],\n",
       "       [2.9583938]], dtype=float32)"
      ]
     },
     "execution_count": 81,
     "metadata": {},
     "output_type": "execute_result"
    }
   ],
   "source": [
    "y_pred_aux"
   ]
  },
  {
   "cell_type": "code",
   "execution_count": 82,
   "metadata": {},
   "outputs": [
    {
     "data": {
      "text/plain": [
       "array([0.477  , 0.458  , 5.00001])"
      ]
     },
     "execution_count": 82,
     "metadata": {},
     "output_type": "execute_result"
    }
   ],
   "source": [
    "y_test[:3]"
   ]
  },
  {
   "cell_type": "markdown",
   "metadata": {},
   "source": [
    "# Using subclassing API to build dynamic model\n"
   ]
  },
  {
   "cell_type": "code",
   "execution_count": 83,
   "metadata": {},
   "outputs": [],
   "source": [
    "class WideAndDeepModel(keras.models.Model):\n",
    "    #creat the layers\n",
    "    def __init__(self, units,activation,**kwargs):\n",
    "        super().__init__(**kwargs)\n",
    "        self.hidden1 = keras.layers.Dense(units,activation=activation)\n",
    "        self.hidden2 = keras.layers.Dense(units,activation=activation)\n",
    "        self.main_output = keras.layers.Dense(1)\n",
    "        self.aux_output = keras.layers.Dense(1)\n",
    "    \n",
    "    # computate the flow connteced between layers\n",
    "    def call(self,inputs):\n",
    "        input_A,input_B = inputs\n",
    "        hidden1 = self.hidden1(input_B)\n",
    "        hidden2 = self.hidden2(hidden1)\n",
    "        concat = keras.layers.Concatenate()([input_A,hidden2])\n",
    "        main_output = self.main_output(concat)\n",
    "        aux_output = self.aux_output(hidden2)\n",
    "        return main_output,aux_output\n",
    "# init\n",
    "model3 = WideAndDeepModel(units=30, activation='relu')\n"
   ]
  },
  {
   "cell_type": "code",
   "execution_count": 84,
   "metadata": {},
   "outputs": [],
   "source": [
    "#call\n",
    "model3.compile(loss='mse', loss_weights=[0.9,0.1],optimizer=keras.optimizers.SGD(learning_rate=1e-3))\n"
   ]
  },
  {
   "cell_type": "code",
   "execution_count": 85,
   "metadata": {},
   "outputs": [
    {
     "name": "stdout",
     "output_type": "stream",
     "text": [
      "Epoch 1/10\n",
      "363/363 [==============================] - 1s 1ms/step - loss: 2.5365 - output_1_loss: 2.3668 - output_2_loss: 4.0632 - val_loss: 1.1481 - val_output_1_loss: 0.9703 - val_output_2_loss: 2.7483\n",
      "Epoch 2/10\n",
      "363/363 [==============================] - 0s 1ms/step - loss: 0.9770 - output_1_loss: 0.8205 - output_2_loss: 2.3857 - val_loss: 0.8506 - val_output_1_loss: 0.7332 - val_output_2_loss: 1.9078\n",
      "Epoch 3/10\n",
      "363/363 [==============================] - 0s 1ms/step - loss: 0.7780 - output_1_loss: 0.6667 - output_2_loss: 1.7798 - val_loss: 0.7419 - val_output_1_loss: 0.6520 - val_output_2_loss: 1.5505\n",
      "Epoch 4/10\n",
      "363/363 [==============================] - 0s 1ms/step - loss: 0.6883 - output_1_loss: 0.5997 - output_2_loss: 1.4861 - val_loss: 0.6868 - val_output_1_loss: 0.6112 - val_output_2_loss: 1.3678\n",
      "Epoch 5/10\n",
      "363/363 [==============================] - 0s 1ms/step - loss: 0.6324 - output_1_loss: 0.5550 - output_2_loss: 1.3295 - val_loss: 0.6458 - val_output_1_loss: 0.5757 - val_output_2_loss: 1.2762\n",
      "Epoch 6/10\n",
      "363/363 [==============================] - 0s 1ms/step - loss: 0.5937 - output_1_loss: 0.5220 - output_2_loss: 1.2396 - val_loss: 0.6197 - val_output_1_loss: 0.5531 - val_output_2_loss: 1.2186\n",
      "Epoch 7/10\n",
      "363/363 [==============================] - 0s 1ms/step - loss: 0.5640 - output_1_loss: 0.4958 - output_2_loss: 1.1776 - val_loss: 0.5974 - val_output_1_loss: 0.5334 - val_output_2_loss: 1.1737\n",
      "Epoch 8/10\n",
      "363/363 [==============================] - 0s 1ms/step - loss: 0.5424 - output_1_loss: 0.4774 - output_2_loss: 1.1282 - val_loss: 0.5805 - val_output_1_loss: 0.5181 - val_output_2_loss: 1.1417\n",
      "Epoch 9/10\n",
      "363/363 [==============================] - 0s 1ms/step - loss: 0.5264 - output_1_loss: 0.4638 - output_2_loss: 1.0894 - val_loss: 0.5686 - val_output_1_loss: 0.5083 - val_output_2_loss: 1.1117\n",
      "Epoch 10/10\n",
      "363/363 [==============================] - 0s 1ms/step - loss: 0.5144 - output_1_loss: 0.4543 - output_2_loss: 1.0555 - val_loss: 0.5568 - val_output_1_loss: 0.4984 - val_output_2_loss: 1.0827\n"
     ]
    }
   ],
   "source": [
    "# if want fit -> called the call function on model object \n",
    "history = model3.fit([X_train_A,X_train_B],[y_train,y_train],epochs=10,\n",
    "                    validation_data=[[X_valid_A,X_valid_B],[y_valid,y_valid]])"
   ]
  },
  {
   "cell_type": "code",
   "execution_count": 86,
   "metadata": {},
   "outputs": [
    {
     "name": "stdout",
     "output_type": "stream",
     "text": [
      "162/162 [==============================] - 0s 758us/step - loss: 0.4990 - output_1_loss: 0.4422 - output_2_loss: 1.0101\n"
     ]
    }
   ],
   "source": [
    "#call\n",
    "total_loss, main_loss, aux_loss=model3.evaluate([X_test_A,X_test_B],[y_test,y_test])"
   ]
  },
  {
   "cell_type": "code",
   "execution_count": 87,
   "metadata": {},
   "outputs": [
    {
     "name": "stdout",
     "output_type": "stream",
     "text": [
      "WARNING:tensorflow:6 out of the last 8 calls to <function Model.make_predict_function.<locals>.predict_function at 0x0000029469598790> triggered tf.function retracing. Tracing is expensive and the excessive number of tracings could be due to (1) creating @tf.function repeatedly in a loop, (2) passing tensors with different shapes, (3) passing Python objects instead of tensors. For (1), please define your @tf.function outside of the loop. For (2), @tf.function has reduce_retracing=True option that can avoid unnecessary retracing. For (3), please refer to https://www.tensorflow.org/guide/function#controlling_retracing and https://www.tensorflow.org/api_docs/python/tf/function for  more details.\n",
      "1/1 [==============================] - 0s 47ms/step\n"
     ]
    },
    {
     "data": {
      "text/plain": [
       "array([[0.30790114],\n",
       "       [1.7951154 ],\n",
       "       [3.2539742 ]], dtype=float32)"
      ]
     },
     "execution_count": 87,
     "metadata": {},
     "output_type": "execute_result"
    }
   ],
   "source": [
    "y_pred_main,y_pred_aux = model3.predict([X_new_A,X_new_B])\n",
    "y_pred_main"
   ]
  },
  {
   "cell_type": "code",
   "execution_count": 88,
   "metadata": {},
   "outputs": [
    {
     "data": {
      "text/plain": [
       "array([[0.98200405],\n",
       "       [1.8633859 ],\n",
       "       [2.5123062 ]], dtype=float32)"
      ]
     },
     "execution_count": 88,
     "metadata": {},
     "output_type": "execute_result"
    }
   ],
   "source": [
    "y_pred_aux"
   ]
  },
  {
   "cell_type": "code",
   "execution_count": 89,
   "metadata": {},
   "outputs": [
    {
     "data": {
      "text/plain": [
       "array([0.477  , 0.458  , 5.00001])"
      ]
     },
     "execution_count": 89,
     "metadata": {},
     "output_type": "execute_result"
    }
   ],
   "source": [
    "y_test[:3]"
   ]
  },
  {
   "cell_type": "markdown",
   "metadata": {},
   "source": [
    "# saving and restoring"
   ]
  },
  {
   "cell_type": "markdown",
   "metadata": {},
   "source": [
    "used h5 format hanya bisa untuk save model sequential dan functional api used non sequential model, tidak bisa menyimpan model yang bersifat sub classing"
   ]
  },
  {
   "cell_type": "code",
   "execution_count": 91,
   "metadata": {},
   "outputs": [],
   "source": [
    "# save the model\n",
    "model2.save('model2.h5')"
   ]
  },
  {
   "cell_type": "code",
   "execution_count": 93,
   "metadata": {},
   "outputs": [
    {
     "name": "stdout",
     "output_type": "stream",
     "text": [
      "Model: \"model_6\"\n",
      "__________________________________________________________________________________________________\n",
      " Layer (type)                   Output Shape         Param #     Connected to                     \n",
      "==================================================================================================\n",
      " deep input (InputLayer)        [(None, 6)]          0           []                               \n",
      "                                                                                                  \n",
      " dense_22 (Dense)               (None, 30)           210         ['deep input[0][0]']             \n",
      "                                                                                                  \n",
      " dense_23 (Dense)               (None, 30)           930         ['dense_22[0][0]']               \n",
      "                                                                                                  \n",
      " concatenate_7 (Concatenate)    (None, 36)           0           ['deep input[0][0]',             \n",
      "                                                                  'dense_23[0][0]']               \n",
      "                                                                                                  \n",
      " wide input (InputLayer)        [(None, 5)]          0           []                               \n",
      "                                                                                                  \n",
      " output (Dense)                 (None, 1)            37          ['concatenate_7[0][0]']          \n",
      "                                                                                                  \n",
      " aux_output (Dense)             (None, 1)            31          ['dense_23[0][0]']               \n",
      "                                                                                                  \n",
      "==================================================================================================\n",
      "Total params: 1,208\n",
      "Trainable params: 1,208\n",
      "Non-trainable params: 0\n",
      "__________________________________________________________________________________________________\n"
     ]
    }
   ],
   "source": [
    "# load model\n",
    "new_model_2 = keras.models.load_model('model2.h5')\n",
    "new_model_2.summary()"
   ]
  },
  {
   "cell_type": "code",
   "execution_count": 95,
   "metadata": {},
   "outputs": [],
   "source": [
    "# save only weights\n",
    "model2.save_weights('my_keras_weight_model2.ckpt')"
   ]
  },
  {
   "cell_type": "code",
   "execution_count": 96,
   "metadata": {},
   "outputs": [
    {
     "data": {
      "text/plain": [
       "<tensorflow.python.training.tracking.util.CheckpointLoadStatus at 0x2945965e0d0>"
      ]
     },
     "execution_count": 96,
     "metadata": {},
     "output_type": "execute_result"
    }
   ],
   "source": [
    "model2.load_weights('my_keras_weight_model2.ckpt')"
   ]
  }
 ],
 "metadata": {
  "kernelspec": {
   "display_name": "Python 3.9.9 ('env': venv)",
   "language": "python",
   "name": "python3"
  },
  "language_info": {
   "codemirror_mode": {
    "name": "ipython",
    "version": 3
   },
   "file_extension": ".py",
   "mimetype": "text/x-python",
   "name": "python",
   "nbconvert_exporter": "python",
   "pygments_lexer": "ipython3",
   "version": "3.9.9"
  },
  "orig_nbformat": 4,
  "vscode": {
   "interpreter": {
    "hash": "b21892ebdafe3dff83e5313b97a9ee6f28f1dc2886ff01f2f955fb4cde4b09b0"
   }
  }
 },
 "nbformat": 4,
 "nbformat_minor": 2
}
