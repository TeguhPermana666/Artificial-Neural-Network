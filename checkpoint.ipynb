{
 "cells": [
  {
   "cell_type": "markdown",
   "metadata": {},
   "source": [
    "# Using callbacks during training\n",
    "lets you specify a list of objects that Keras will call at the start and end of training, at the start and end of each epoch,and even before and after processing each batch."
   ]
  },
  {
   "cell_type": "code",
   "execution_count": 1,
   "metadata": {},
   "outputs": [],
   "source": [
    "# set up\n",
    "import os\n",
    "import matplotlib.pyplot as plt\n",
    "root = \"\"\n",
    "chapter_id =\"Callbacks\"\n",
    "# path of folder\n",
    "images_path = os.path.join(root,\"images\",chapter_id)\n",
    "os.makedirs(images_path,exist_ok=True)\n",
    "def save_fig(fig_id,tigh_layout,fig_extension=\"png\",resolution=True):\n",
    "    # path until file name\n",
    "    path = os.path.join(images_path,fig_id + \".\" +fig_extension)\n",
    "    print(\"save figure\",fig_id)\n",
    "    if tigh_layout:\n",
    "        plt.tight_layout()\n",
    "    plt.savefig(path,fig_extension=fig_extension,resolution=resolution)\n",
    " "
   ]
  },
  {
   "cell_type": "code",
   "execution_count": 2,
   "metadata": {},
   "outputs": [
    {
     "name": "stdout",
     "output_type": "stream",
     "text": [
      ".. _california_housing_dataset:\n",
      "\n",
      "California Housing dataset\n",
      "--------------------------\n",
      "\n",
      "**Data Set Characteristics:**\n",
      "\n",
      "    :Number of Instances: 20640\n",
      "\n",
      "    :Number of Attributes: 8 numeric, predictive attributes and the target\n",
      "\n",
      "    :Attribute Information:\n",
      "        - MedInc        median income in block group\n",
      "        - HouseAge      median house age in block group\n",
      "        - AveRooms      average number of rooms per household\n",
      "        - AveBedrms     average number of bedrooms per household\n",
      "        - Population    block group population\n",
      "        - AveOccup      average number of household members\n",
      "        - Latitude      block group latitude\n",
      "        - Longitude     block group longitude\n",
      "\n",
      "    :Missing Attribute Values: None\n",
      "\n",
      "This dataset was obtained from the StatLib repository.\n",
      "https://www.dcc.fc.up.pt/~ltorgo/Regression/cal_housing.html\n",
      "\n",
      "The target variable is the median house value for California districts,\n",
      "expressed in hundreds of thousands of dollars ($100,000).\n",
      "\n",
      "This dataset was derived from the 1990 U.S. census, using one row per census\n",
      "block group. A block group is the smallest geographical unit for which the U.S.\n",
      "Census Bureau publishes sample data (a block group typically has a population\n",
      "of 600 to 3,000 people).\n",
      "\n",
      "An household is a group of people residing within a home. Since the average\n",
      "number of rooms and bedrooms in this dataset are provided per household, these\n",
      "columns may take surpinsingly large values for block groups with few households\n",
      "and many empty houses, such as vacation resorts.\n",
      "\n",
      "It can be downloaded/loaded using the\n",
      ":func:`sklearn.datasets.fetch_california_housing` function.\n",
      "\n",
      ".. topic:: References\n",
      "\n",
      "    - Pace, R. Kelley and Ronald Barry, Sparse Spatial Autoregressions,\n",
      "      Statistics and Probability Letters, 33 (1997) 291-297\n",
      "\n"
     ]
    }
   ],
   "source": [
    "# load data set\n",
    "import tensorflow as tf \n",
    "import keras\n",
    "import numpy as np\n",
    "import pandas as pd\n",
    "from sklearn.datasets import fetch_california_housing\n",
    "from sklearn.model_selection import train_test_split\n",
    "from sklearn.preprocessing import StandardScaler\n",
    "\n",
    "housing = fetch_california_housing()\n",
    "print(housing.DESCR)"
   ]
  },
  {
   "cell_type": "code",
   "execution_count": 3,
   "metadata": {},
   "outputs": [],
   "source": [
    "# SPLIT DATA TRAIN FULL AND TESTING \n",
    "X_train_full,X_test,y_train_full,y_test = train_test_split(housing['data'],housing['target'],random_state=42)\n",
    "#SPLIT DATA TRAIN FULL TO TRAIN AND VALIDATION\n",
    "X_train,X_valid,y_train,y_valid = train_test_split(X_train_full,y_train_full,random_state=42)\n",
    "scaler = StandardScaler()\n",
    "X_train = scaler.fit_transform(X_train)\n",
    "X_valid = scaler.fit_transform(X_valid)\n",
    "X_test = scaler.fit_transform(X_test)"
   ]
  },
  {
   "cell_type": "markdown",
   "metadata": {},
   "source": [
    "# Using callbacks during training"
   ]
  },
  {
   "cell_type": "code",
   "execution_count": 4,
   "metadata": {},
   "outputs": [],
   "source": [
    "# Set up generate  \n",
    "\n",
    "keras.backend.clear_session()\n",
    "np.random.seed(42)\n",
    "tf.random.set_seed(42)"
   ]
  },
  {
   "cell_type": "code",
   "execution_count": 5,
   "metadata": {},
   "outputs": [],
   "source": [
    "# linear model\n",
    "model = keras.models.Sequential([\n",
    "    keras.layers.Dense(30,activation='relu',input_shape=[8]),\n",
    "    keras.layers.Dense(30,activation='relu'),\n",
    "    keras.layers.Dense(1)\n",
    "])"
   ]
  },
  {
   "cell_type": "code",
   "execution_count": 6,
   "metadata": {},
   "outputs": [
    {
     "name": "stdout",
     "output_type": "stream",
     "text": [
      "Epoch 1/10\n",
      "363/363 [==============================] - 2s 2ms/step - loss: 1.8866 - val_loss: 0.7414\n",
      "Epoch 2/10\n",
      "363/363 [==============================] - 0s 991us/step - loss: 0.6577 - val_loss: 0.6221\n",
      "Epoch 3/10\n",
      "363/363 [==============================] - 0s 953us/step - loss: 0.5934 - val_loss: 0.5779\n",
      "Epoch 4/10\n",
      "363/363 [==============================] - 0s 1ms/step - loss: 0.5557 - val_loss: 0.5572\n",
      "Epoch 5/10\n",
      "363/363 [==============================] - 0s 1ms/step - loss: 0.5272 - val_loss: 0.5305\n",
      "Epoch 6/10\n",
      "363/363 [==============================] - 0s 1ms/step - loss: 0.5033 - val_loss: 0.5113\n",
      "Epoch 7/10\n",
      "363/363 [==============================] - 0s 979us/step - loss: 0.4854 - val_loss: 0.4974\n",
      "Epoch 8/10\n",
      "363/363 [==============================] - 0s 1ms/step - loss: 0.4709 - val_loss: 0.4903\n",
      "Epoch 9/10\n",
      "363/363 [==============================] - 0s 998us/step - loss: 0.4578 - val_loss: 0.4773\n",
      "Epoch 10/10\n",
      "363/363 [==============================] - 0s 980us/step - loss: 0.4474 - val_loss: 0.4696\n"
     ]
    }
   ],
   "source": [
    "# compile model\n",
    "model.compile(loss='mse',optimizer=keras.optimizers.SGD(learning_rate=1e-3))\n",
    "# save best only -> save the best of validation\n",
    "checkpoint_cb = keras.callbacks.ModelCheckpoint('my_keras_model.h5',save_best_only = True)\n",
    "history = model.fit(X_train,y_train,epochs=10,\n",
    "                    validation_data=[X_valid,y_valid],\n",
    "                    callbacks=[checkpoint_cb])"
   ]
  },
  {
   "cell_type": "code",
   "execution_count": 7,
   "metadata": {},
   "outputs": [
    {
     "name": "stdout",
     "output_type": "stream",
     "text": [
      "162/162 [==============================] - 0s 652us/step - loss: 0.4356\n"
     ]
    },
    {
     "data": {
      "text/plain": [
       "0.4355747401714325"
      ]
     },
     "execution_count": 7,
     "metadata": {},
     "output_type": "execute_result"
    }
   ],
   "source": [
    "# rollback to best model\n",
    "model = keras.models.load_model('my_keras_model.h5')\n",
    "model.evaluate(X_test,y_test)"
   ]
  },
  {
   "cell_type": "markdown",
   "metadata": {},
   "source": [
    "# TRAIN AGAINT \n",
    "Train againt but now used the early stopping, thats ill be interupt if the result is not on progress on validation loss function"
   ]
  },
  {
   "cell_type": "code",
   "execution_count": 8,
   "metadata": {},
   "outputs": [
    {
     "name": "stdout",
     "output_type": "stream",
     "text": [
      "Epoch 1/100\n",
      "363/363 [==============================] - 1s 1ms/step - loss: 0.4393 - val_loss: 0.4655\n",
      "Epoch 2/100\n",
      "363/363 [==============================] - 0s 1ms/step - loss: 0.4315 - val_loss: 0.4627\n",
      "Epoch 3/100\n",
      "363/363 [==============================] - 0s 992us/step - loss: 0.4259 - val_loss: 0.4562\n",
      "Epoch 4/100\n",
      "363/363 [==============================] - 0s 972us/step - loss: 0.4201 - val_loss: 0.4554\n",
      "Epoch 5/100\n",
      "363/363 [==============================] - 0s 1ms/step - loss: 0.4154 - val_loss: 0.4506\n",
      "Epoch 6/100\n",
      "363/363 [==============================] - 0s 976us/step - loss: 0.4111 - val_loss: 0.4461\n",
      "Epoch 7/100\n",
      "363/363 [==============================] - 0s 975us/step - loss: 0.4074 - val_loss: 0.4446\n",
      "Epoch 8/100\n",
      "363/363 [==============================] - 0s 942us/step - loss: 0.4040 - val_loss: 0.4434\n",
      "Epoch 9/100\n",
      "363/363 [==============================] - 0s 1ms/step - loss: 0.4008 - val_loss: 0.4391\n",
      "Epoch 10/100\n",
      "363/363 [==============================] - 0s 999us/step - loss: 0.3976 - val_loss: 0.4363\n",
      "Epoch 11/100\n",
      "363/363 [==============================] - 0s 990us/step - loss: 0.3950 - val_loss: 0.4355\n",
      "Epoch 12/100\n",
      "363/363 [==============================] - 0s 1ms/step - loss: 0.3923 - val_loss: 0.4330\n",
      "Epoch 13/100\n",
      "363/363 [==============================] - 0s 995us/step - loss: 0.3897 - val_loss: 0.4325\n",
      "Epoch 14/100\n",
      "363/363 [==============================] - 0s 941us/step - loss: 0.3874 - val_loss: 0.4308\n",
      "Epoch 15/100\n",
      "363/363 [==============================] - 0s 950us/step - loss: 0.3851 - val_loss: 0.4289\n",
      "Epoch 16/100\n",
      "363/363 [==============================] - 0s 932us/step - loss: 0.3829 - val_loss: 0.4255\n",
      "Epoch 17/100\n",
      "363/363 [==============================] - 0s 989us/step - loss: 0.3810 - val_loss: 0.4248\n",
      "Epoch 18/100\n",
      "363/363 [==============================] - 0s 953us/step - loss: 0.3788 - val_loss: 0.4245\n",
      "Epoch 19/100\n",
      "363/363 [==============================] - 0s 965us/step - loss: 0.3766 - val_loss: 0.4230\n",
      "Epoch 20/100\n",
      "363/363 [==============================] - 0s 1ms/step - loss: 0.3750 - val_loss: 0.4226\n",
      "Epoch 21/100\n",
      "363/363 [==============================] - 0s 986us/step - loss: 0.3732 - val_loss: 0.4215\n",
      "Epoch 22/100\n",
      "363/363 [==============================] - 0s 909us/step - loss: 0.3715 - val_loss: 0.4228\n",
      "Epoch 23/100\n",
      "363/363 [==============================] - 0s 964us/step - loss: 0.3700 - val_loss: 0.4190\n",
      "Epoch 24/100\n",
      "363/363 [==============================] - 0s 920us/step - loss: 0.3685 - val_loss: 0.4201\n",
      "Epoch 25/100\n",
      "363/363 [==============================] - 0s 1ms/step - loss: 0.3671 - val_loss: 0.4171\n",
      "Epoch 26/100\n",
      "363/363 [==============================] - 0s 912us/step - loss: 0.3658 - val_loss: 0.4173\n",
      "Epoch 27/100\n",
      "363/363 [==============================] - 0s 957us/step - loss: 0.3647 - val_loss: 0.4153\n",
      "Epoch 28/100\n",
      "363/363 [==============================] - 0s 925us/step - loss: 0.3635 - val_loss: 0.4161\n",
      "Epoch 29/100\n",
      "363/363 [==============================] - 0s 973us/step - loss: 0.3625 - val_loss: 0.4148\n",
      "Epoch 30/100\n",
      "363/363 [==============================] - 0s 968us/step - loss: 0.3613 - val_loss: 0.4146\n",
      "Epoch 31/100\n",
      "363/363 [==============================] - 0s 1ms/step - loss: 0.3601 - val_loss: 0.4137\n",
      "Epoch 32/100\n",
      "363/363 [==============================] - 0s 914us/step - loss: 0.3589 - val_loss: 0.4158\n",
      "Epoch 33/100\n",
      "363/363 [==============================] - 0s 959us/step - loss: 0.3584 - val_loss: 0.4116\n",
      "Epoch 34/100\n",
      "363/363 [==============================] - 0s 915us/step - loss: 0.3572 - val_loss: 0.4121\n",
      "Epoch 35/100\n",
      "363/363 [==============================] - 0s 915us/step - loss: 0.3563 - val_loss: 0.4128\n",
      "Epoch 36/100\n",
      "363/363 [==============================] - 0s 969us/step - loss: 0.3555 - val_loss: 0.4115\n",
      "Epoch 37/100\n",
      "363/363 [==============================] - 0s 997us/step - loss: 0.3546 - val_loss: 0.4115\n",
      "Epoch 38/100\n",
      "363/363 [==============================] - 0s 974us/step - loss: 0.3538 - val_loss: 0.4113\n",
      "Epoch 39/100\n",
      "363/363 [==============================] - 0s 1ms/step - loss: 0.3530 - val_loss: 0.4105\n",
      "Epoch 40/100\n",
      "363/363 [==============================] - 0s 968us/step - loss: 0.3523 - val_loss: 0.4096\n",
      "Epoch 41/100\n",
      "363/363 [==============================] - 0s 997us/step - loss: 0.3515 - val_loss: 0.4087\n",
      "Epoch 42/100\n",
      "363/363 [==============================] - 0s 925us/step - loss: 0.3511 - val_loss: 0.4099\n",
      "Epoch 43/100\n",
      "363/363 [==============================] - 0s 906us/step - loss: 0.3500 - val_loss: 0.4100\n",
      "Epoch 44/100\n",
      "363/363 [==============================] - 0s 909us/step - loss: 0.3496 - val_loss: 0.4092\n",
      "Epoch 45/100\n",
      "363/363 [==============================] - 0s 917us/step - loss: 0.3490 - val_loss: 0.4093\n",
      "Epoch 46/100\n",
      "363/363 [==============================] - 0s 910us/step - loss: 0.3481 - val_loss: 0.4090\n",
      "Epoch 47/100\n",
      "363/363 [==============================] - 0s 903us/step - loss: 0.3478 - val_loss: 0.4090\n",
      "Epoch 48/100\n",
      "363/363 [==============================] - 0s 971us/step - loss: 0.3471 - val_loss: 0.4075\n",
      "Epoch 49/100\n",
      "363/363 [==============================] - 0s 973us/step - loss: 0.3466 - val_loss: 0.4068\n",
      "Epoch 50/100\n",
      "363/363 [==============================] - 0s 908us/step - loss: 0.3460 - val_loss: 0.4087\n",
      "Epoch 51/100\n",
      "363/363 [==============================] - 0s 919us/step - loss: 0.3454 - val_loss: 0.4071\n",
      "Epoch 52/100\n",
      "363/363 [==============================] - 0s 1ms/step - loss: 0.3449 - val_loss: 0.4089\n",
      "Epoch 53/100\n",
      "363/363 [==============================] - 0s 953us/step - loss: 0.3444 - val_loss: 0.4093\n",
      "Epoch 54/100\n",
      "363/363 [==============================] - 0s 986us/step - loss: 0.3439 - val_loss: 0.4053\n",
      "Epoch 55/100\n",
      "363/363 [==============================] - 0s 906us/step - loss: 0.3435 - val_loss: 0.4077\n",
      "Epoch 56/100\n",
      "363/363 [==============================] - 0s 914us/step - loss: 0.3430 - val_loss: 0.4066\n",
      "Epoch 57/100\n",
      "363/363 [==============================] - 0s 920us/step - loss: 0.3423 - val_loss: 0.4069\n",
      "Epoch 58/100\n",
      "363/363 [==============================] - 0s 903us/step - loss: 0.3419 - val_loss: 0.4095\n",
      "Epoch 59/100\n",
      "363/363 [==============================] - 0s 912us/step - loss: 0.3417 - val_loss: 0.4065\n",
      "Epoch 60/100\n",
      "363/363 [==============================] - 0s 914us/step - loss: 0.3410 - val_loss: 0.4071\n",
      "Epoch 61/100\n",
      "363/363 [==============================] - 0s 920us/step - loss: 0.3404 - val_loss: 0.4059\n",
      "Epoch 62/100\n",
      "363/363 [==============================] - 0s 1ms/step - loss: 0.3402 - val_loss: 0.4053\n",
      "Epoch 63/100\n",
      "363/363 [==============================] - 0s 912us/step - loss: 0.3392 - val_loss: 0.4081\n",
      "Epoch 64/100\n",
      "363/363 [==============================] - 0s 971us/step - loss: 0.3393 - val_loss: 0.4050\n",
      "Epoch 65/100\n",
      "363/363 [==============================] - 0s 917us/step - loss: 0.3387 - val_loss: 0.4050\n",
      "Epoch 66/100\n",
      "363/363 [==============================] - 0s 925us/step - loss: 0.3383 - val_loss: 0.4067\n",
      "Epoch 67/100\n",
      "363/363 [==============================] - 0s 1ms/step - loss: 0.3376 - val_loss: 0.4041\n",
      "Epoch 68/100\n",
      "363/363 [==============================] - 0s 920us/step - loss: 0.3374 - val_loss: 0.4051\n",
      "Epoch 69/100\n",
      "363/363 [==============================] - 0s 923us/step - loss: 0.3370 - val_loss: 0.4054\n",
      "Epoch 70/100\n",
      "363/363 [==============================] - 0s 903us/step - loss: 0.3365 - val_loss: 0.4058\n",
      "Epoch 71/100\n",
      "363/363 [==============================] - 0s 901us/step - loss: 0.3361 - val_loss: 0.4051\n",
      "Epoch 72/100\n",
      "363/363 [==============================] - 0s 912us/step - loss: 0.3357 - val_loss: 0.4052\n",
      "Epoch 73/100\n",
      "363/363 [==============================] - 0s 950us/step - loss: 0.3351 - val_loss: 0.4054\n",
      "Epoch 74/100\n",
      "363/363 [==============================] - 0s 901us/step - loss: 0.3350 - val_loss: 0.4050\n",
      "Epoch 75/100\n",
      "363/363 [==============================] - 0s 911us/step - loss: 0.3347 - val_loss: 0.4072\n",
      "Epoch 76/100\n",
      "363/363 [==============================] - 0s 903us/step - loss: 0.3342 - val_loss: 0.4057\n",
      "Epoch 77/100\n",
      "363/363 [==============================] - 0s 903us/step - loss: 0.3338 - val_loss: 0.4046\n"
     ]
    }
   ],
   "source": [
    "model.compile(loss='mse',optimizer=keras.optimizers.SGD(learning_rate=1e-3))\n",
    "#patience : number of epochs with no improvement after which training will be stopped.\n",
    "\"\"\"\n",
    "Jika tidak ada improvement sebanyak 10 kali pada validatio test on train\n",
    "maka akan stopped \n",
    "\"\"\"\n",
    "early_stopping_cb = keras.callbacks.EarlyStopping(patience=10,restore_best_weights=True)\n",
    "history2 = model.fit(X_train,y_train,epochs=100,\n",
    "                     validation_data=[X_valid,y_valid],\n",
    "                     callbacks=[checkpoint_cb,early_stopping_cb]) "
   ]
  },
  {
   "cell_type": "markdown",
   "metadata": {},
   "source": [
    "jika di liat bahwa tidak sampai dalam train ke 100 karena tidak akan mengalami progress penurunan gradient pada loss function validation data on training"
   ]
  },
  {
   "cell_type": "code",
   "execution_count": 9,
   "metadata": {},
   "outputs": [
    {
     "name": "stdout",
     "output_type": "stream",
     "text": [
      "162/162 [==============================] - 0s 665us/step - loss: 0.3720\n"
     ]
    }
   ],
   "source": [
    "mse_test2=model.evaluate(X_test,y_test)"
   ]
  },
  {
   "cell_type": "markdown",
   "metadata": {},
   "source": [
    "tentunya loss functionnya sangat menurun pada model ini dan akan di simpan pada checkpoint"
   ]
  },
  {
   "cell_type": "code",
   "execution_count": 10,
   "metadata": {},
   "outputs": [
    {
     "name": "stdout",
     "output_type": "stream",
     "text": [
      "Model: \"sequential\"\n",
      "_________________________________________________________________\n",
      " Layer (type)                Output Shape              Param #   \n",
      "=================================================================\n",
      " dense (Dense)               (None, 30)                270       \n",
      "                                                                 \n",
      " dense_1 (Dense)             (None, 30)                930       \n",
      "                                                                 \n",
      " dense_2 (Dense)             (None, 1)                 31        \n",
      "                                                                 \n",
      "=================================================================\n",
      "Total params: 1,231\n",
      "Trainable params: 1,231\n",
      "Non-trainable params: 0\n",
      "_________________________________________________________________\n"
     ]
    }
   ],
   "source": [
    "model.summary()"
   ]
  },
  {
   "cell_type": "code",
   "execution_count": 11,
   "metadata": {},
   "outputs": [],
   "source": [
    "# custom callbacks -> ratio between validation loss and training loss function\n",
    "class PrintValTrainRatioCallback(keras.callbacks.Callback):\n",
    "    def on_epoch_end(self, epoch, logs):\n",
    "        print(\"\\nVal/Train: {:.2f}\".format(logs['val_loss']/ logs['loss']))"
   ]
  },
  {
   "cell_type": "code",
   "execution_count": 12,
   "metadata": {},
   "outputs": [
    {
     "name": "stdout",
     "output_type": "stream",
     "text": [
      "293/363 [=======================>......] - ETA: 0s - loss: 0.3400\n",
      "Val/Train: 1.20\n",
      "363/363 [==============================] - 0s 978us/step - loss: 0.3373 - val_loss: 0.4052\n"
     ]
    }
   ],
   "source": [
    "# object assigmnt\n",
    "val_train_ratio_cb = PrintValTrainRatioCallback()\n",
    "# train\n",
    "history = model.fit(X_train,y_train,epochs=1,\n",
    "                    validation_data=[X_valid,y_valid],\n",
    "                    callbacks=[val_train_ratio_cb])"
   ]
  },
  {
   "cell_type": "markdown",
   "metadata": {},
   "source": [
    "# Using TensorBoard for Visualization"
   ]
  },
  {
   "cell_type": "code",
   "execution_count": 13,
   "metadata": {},
   "outputs": [],
   "source": [
    "root_logdir = os.path.join(os.curdir,'my_logs')"
   ]
  },
  {
   "cell_type": "code",
   "execution_count": 15,
   "metadata": {},
   "outputs": [],
   "source": [
    "def get_run_logdir():\n",
    "    import time\n",
    "    run_id = time.strftime(\"run_%Y_%m_%d-%H_%M_%S\")\n",
    "    return os.path.join(root_logdir,run_id)\n"
   ]
  },
  {
   "cell_type": "code",
   "execution_count": 16,
   "metadata": {},
   "outputs": [
    {
     "data": {
      "text/plain": [
       "'.\\\\my_logs\\\\run_2022_07_07-20_40_53'"
      ]
     },
     "execution_count": 16,
     "metadata": {},
     "output_type": "execute_result"
    }
   ],
   "source": [
    "run_logdir = get_run_logdir()\n",
    "run_logdir"
   ]
  },
  {
   "cell_type": "code",
   "execution_count": 30,
   "metadata": {},
   "outputs": [
    {
     "data": {
      "text/plain": [
       "0.4041360318660736"
      ]
     },
     "execution_count": 30,
     "metadata": {},
     "output_type": "execute_result"
    }
   ],
   "source": [
    "checkpoint_cb.best"
   ]
  },
  {
   "cell_type": "code",
   "execution_count": 18,
   "metadata": {},
   "outputs": [],
   "source": [
    "keras.backend.clear_session()\n",
    "np.random.seed(42)\n",
    "tf.random.set_seed(42)"
   ]
  },
  {
   "cell_type": "code",
   "execution_count": 20,
   "metadata": {},
   "outputs": [],
   "source": [
    "model = keras.models.Sequential([\n",
    "    keras.layers.Dense(30,activation='relu',input_shape=[8]),\n",
    "    keras.layers.Dense(30,activation='relu'),\n",
    "    keras.layers.Dense(1)\n",
    "])\n",
    "model.compile(loss='mse',optimizer=keras.optimizers.SGD(learning_rate=1e-3))"
   ]
  },
  {
   "cell_type": "code",
   "execution_count": 29,
   "metadata": {},
   "outputs": [
    {
     "name": "stdout",
     "output_type": "stream",
     "text": [
      "Epoch 1/30\n",
      "363/363 [==============================] - 1s 2ms/step - loss: 1.8866 - val_loss: 0.7414\n",
      "Epoch 2/30\n",
      "363/363 [==============================] - 0s 1ms/step - loss: 0.6577 - val_loss: 0.6221\n",
      "Epoch 3/30\n",
      "363/363 [==============================] - 0s 1ms/step - loss: 0.5934 - val_loss: 0.5779\n",
      "Epoch 4/30\n",
      "363/363 [==============================] - 0s 1ms/step - loss: 0.5557 - val_loss: 0.5572\n",
      "Epoch 5/30\n",
      "363/363 [==============================] - 0s 1ms/step - loss: 0.5272 - val_loss: 0.5305\n",
      "Epoch 6/30\n",
      "363/363 [==============================] - 0s 1ms/step - loss: 0.5033 - val_loss: 0.5113\n",
      "Epoch 7/30\n",
      "363/363 [==============================] - 0s 1ms/step - loss: 0.4854 - val_loss: 0.4974\n",
      "Epoch 8/30\n",
      "363/363 [==============================] - 0s 1ms/step - loss: 0.4709 - val_loss: 0.4903\n",
      "Epoch 9/30\n",
      "363/363 [==============================] - 0s 1ms/step - loss: 0.4578 - val_loss: 0.4773\n",
      "Epoch 10/30\n",
      "363/363 [==============================] - 0s 1ms/step - loss: 0.4474 - val_loss: 0.4696\n",
      "Epoch 11/30\n",
      "363/363 [==============================] - 0s 1ms/step - loss: 0.4393 - val_loss: 0.4704\n",
      "Epoch 12/30\n",
      "363/363 [==============================] - 0s 1ms/step - loss: 0.4318 - val_loss: 0.4590\n",
      "Epoch 13/30\n",
      "363/363 [==============================] - 0s 1ms/step - loss: 0.4261 - val_loss: 0.4587\n",
      "Epoch 14/30\n",
      "363/363 [==============================] - 0s 1ms/step - loss: 0.4202 - val_loss: 0.4550\n",
      "Epoch 15/30\n",
      "363/363 [==============================] - 0s 1ms/step - loss: 0.4155 - val_loss: 0.4507\n",
      "Epoch 16/30\n",
      "363/363 [==============================] - 0s 1ms/step - loss: 0.4112 - val_loss: 0.4458\n",
      "Epoch 17/30\n",
      "363/363 [==============================] - 0s 1ms/step - loss: 0.4077 - val_loss: 0.4431\n",
      "Epoch 18/30\n",
      "363/363 [==============================] - 0s 1ms/step - loss: 0.4040 - val_loss: 0.4418\n",
      "Epoch 19/30\n",
      "363/363 [==============================] - 0s 1ms/step - loss: 0.4004 - val_loss: 0.4388\n",
      "Epoch 20/30\n",
      "363/363 [==============================] - 0s 1ms/step - loss: 0.3980 - val_loss: 0.4383\n",
      "Epoch 21/30\n",
      "363/363 [==============================] - 0s 1ms/step - loss: 0.3949 - val_loss: 0.4362\n",
      "Epoch 22/30\n",
      "363/363 [==============================] - 0s 1ms/step - loss: 0.3924 - val_loss: 0.4365\n",
      "Epoch 23/30\n",
      "363/363 [==============================] - 0s 1ms/step - loss: 0.3898 - val_loss: 0.4305\n",
      "Epoch 24/30\n",
      "363/363 [==============================] - 0s 1ms/step - loss: 0.3874 - val_loss: 0.4310\n",
      "Epoch 25/30\n",
      "363/363 [==============================] - 0s 1ms/step - loss: 0.3851 - val_loss: 0.4274\n",
      "Epoch 26/30\n",
      "363/363 [==============================] - 0s 1ms/step - loss: 0.3829 - val_loss: 0.4267\n",
      "Epoch 27/30\n",
      "363/363 [==============================] - 0s 1ms/step - loss: 0.3809 - val_loss: 0.4246\n",
      "Epoch 28/30\n",
      "363/363 [==============================] - 0s 1ms/step - loss: 0.3788 - val_loss: 0.4252\n",
      "Epoch 29/30\n",
      "363/363 [==============================] - 0s 1ms/step - loss: 0.3769 - val_loss: 0.4234\n",
      "Epoch 30/30\n",
      "363/363 [==============================] - 0s 1ms/step - loss: 0.3750 - val_loss: 0.4222\n"
     ]
    }
   ],
   "source": [
    "#log file\n",
    "tensorboard_cb = keras.callbacks.TensorBoard(run_logdir)\n",
    "#current date generated of small function\n",
    "#'.\\\\my_logs\\\\run_2022_07_07-20_40_53'\n",
    "history3 = model.fit(X_train,y_train,epochs=30,\n",
    "                     validation_data=(X_valid,y_valid),\n",
    "                     callbacks=[checkpoint_cb,tensorboard_cb])\n"
   ]
  },
  {
   "cell_type": "code",
   "execution_count": null,
   "metadata": {},
   "outputs": [],
   "source": [
    "%load_ext tensorboard\n",
    "\n",
    "%tensorboard --logdir=./mylogs --port=6006"
   ]
  }
 ],
 "metadata": {
  "kernelspec": {
   "display_name": "Python 3.9.9 ('env': venv)",
   "language": "python",
   "name": "python3"
  },
  "language_info": {
   "codemirror_mode": {
    "name": "ipython",
    "version": 3
   },
   "file_extension": ".py",
   "mimetype": "text/x-python",
   "name": "python",
   "nbconvert_exporter": "python",
   "pygments_lexer": "ipython3",
   "version": "3.9.9"
  },
  "orig_nbformat": 4,
  "vscode": {
   "interpreter": {
    "hash": "b21892ebdafe3dff83e5313b97a9ee6f28f1dc2886ff01f2f955fb4cde4b09b0"
   }
  }
 },
 "nbformat": 4,
 "nbformat_minor": 2
}
