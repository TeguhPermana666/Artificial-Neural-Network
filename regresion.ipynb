{
 "cells": [
  {
   "cell_type": "code",
   "execution_count": 2,
   "metadata": {},
   "outputs": [],
   "source": [
    "import os \n",
    "import matplotlib.pyplot as plt\n",
    "\n",
    "root = ''\n",
    "chapter_id = 'Regresion'\n",
    "images_path = os.path.join(root, 'images',chapter_id)\n",
    "os.makedirs(images_path,exist_ok=True)\n",
    "\n",
    "def save_fig (fig_id, tigh_layout=True, fig_extension='png',resolution=True):\n",
    "    path = os.path.join(images_path,fig_id + '.'+fig_extension)\n",
    "    print('save figure',fig_id)\n",
    "    if tigh_layout:\n",
    "        plt.tigh_layout()\n",
    "    plt.savefig(path,format=fig_extension,resolution=resolution)"
   ]
  },
  {
   "cell_type": "code",
   "execution_count": 3,
   "metadata": {},
   "outputs": [
    {
     "name": "stdout",
     "output_type": "stream",
     "text": [
      ".. _california_housing_dataset:\n",
      "\n",
      "California Housing dataset\n",
      "--------------------------\n",
      "\n",
      "**Data Set Characteristics:**\n",
      "\n",
      "    :Number of Instances: 20640\n",
      "\n",
      "    :Number of Attributes: 8 numeric, predictive attributes and the target\n",
      "\n",
      "    :Attribute Information:\n",
      "        - MedInc        median income in block group\n",
      "        - HouseAge      median house age in block group\n",
      "        - AveRooms      average number of rooms per household\n",
      "        - AveBedrms     average number of bedrooms per household\n",
      "        - Population    block group population\n",
      "        - AveOccup      average number of household members\n",
      "        - Latitude      block group latitude\n",
      "        - Longitude     block group longitude\n",
      "\n",
      "    :Missing Attribute Values: None\n",
      "\n",
      "This dataset was obtained from the StatLib repository.\n",
      "https://www.dcc.fc.up.pt/~ltorgo/Regression/cal_housing.html\n",
      "\n",
      "The target variable is the median house value for California districts,\n",
      "expressed in hundreds of thousands of dollars ($100,000).\n",
      "\n",
      "This dataset was derived from the 1990 U.S. census, using one row per census\n",
      "block group. A block group is the smallest geographical unit for which the U.S.\n",
      "Census Bureau publishes sample data (a block group typically has a population\n",
      "of 600 to 3,000 people).\n",
      "\n",
      "An household is a group of people residing within a home. Since the average\n",
      "number of rooms and bedrooms in this dataset are provided per household, these\n",
      "columns may take surpinsingly large values for block groups with few households\n",
      "and many empty houses, such as vacation resorts.\n",
      "\n",
      "It can be downloaded/loaded using the\n",
      ":func:`sklearn.datasets.fetch_california_housing` function.\n",
      "\n",
      ".. topic:: References\n",
      "\n",
      "    - Pace, R. Kelley and Ronald Barry, Sparse Spatial Autoregressions,\n",
      "      Statistics and Probability Letters, 33 (1997) 291-297\n",
      "\n"
     ]
    }
   ],
   "source": [
    "# set up \n",
    "import tensorflow as tf\n",
    "import keras\n",
    "import numpy as np\n",
    "import pandas as pd\n",
    "\n",
    "from sklearn.datasets import fetch_california_housing\n",
    "from sklearn.model_selection import train_test_split\n",
    "from sklearn.preprocessing import StandardScaler\n",
    "\n",
    "housing = fetch_california_housing()\n",
    "print(housing['DESCR'])"
   ]
  },
  {
   "cell_type": "code",
   "execution_count": 4,
   "metadata": {},
   "outputs": [],
   "source": [
    "# split data ke train & test\n",
    "X_train_full, X_test, y_train_full, y_test = train_test_split(housing['data'],housing['target'],random_state=42)\n",
    "# split data train ke valid dan train\n",
    "X_train, X_valid, y_train, y_valid = train_test_split(X_train_full,y_train_full,random_state=42)\n",
    "\n",
    "scaler = StandardScaler()\n",
    "X_train = scaler.fit_transform(X_train)\n",
    "X_valid = scaler.fit_transform(X_valid)\n",
    "X_test = scaler.fit_transform(X_test)"
   ]
  },
  {
   "cell_type": "code",
   "execution_count": 14,
   "metadata": {},
   "outputs": [
    {
     "data": {
      "text/plain": [
       "array([4.526, 3.585, 3.521, ..., 0.923, 0.847, 0.894])"
      ]
     },
     "execution_count": 14,
     "metadata": {},
     "output_type": "execute_result"
    }
   ],
   "source": [
    "housing['target']"
   ]
  },
  {
   "cell_type": "code",
   "execution_count": 5,
   "metadata": {},
   "outputs": [],
   "source": [
    "np.random.seed(42)\n",
    "tf.random.set_seed(42)"
   ]
  },
  {
   "cell_type": "code",
   "execution_count": 7,
   "metadata": {},
   "outputs": [
    {
     "name": "stdout",
     "output_type": "stream",
     "text": [
      "Epoch 1/20\n",
      "363/363 [==============================] - 1s 1ms/step - loss: 1.9197 - accuracy: 0.0028 - val_loss: 0.9271 - val_accuracy: 0.0044\n",
      "Epoch 2/20\n",
      "363/363 [==============================] - 0s 934us/step - loss: 0.8247 - accuracy: 0.0029 - val_loss: 0.7251 - val_accuracy: 0.0044\n",
      "Epoch 3/20\n",
      "363/363 [==============================] - 0s 915us/step - loss: 0.6937 - accuracy: 0.0029 - val_loss: 0.6619 - val_accuracy: 0.0044\n",
      "Epoch 4/20\n",
      "363/363 [==============================] - 0s 911us/step - loss: 0.6350 - accuracy: 0.0029 - val_loss: 0.6269 - val_accuracy: 0.0044\n",
      "Epoch 5/20\n",
      "363/363 [==============================] - 0s 1000us/step - loss: 0.5964 - accuracy: 0.0029 - val_loss: 0.5969 - val_accuracy: 0.0044\n",
      "Epoch 6/20\n",
      "363/363 [==============================] - 0s 956us/step - loss: 0.5664 - accuracy: 0.0029 - val_loss: 0.5746 - val_accuracy: 0.0044\n",
      "Epoch 7/20\n",
      "363/363 [==============================] - 0s 936us/step - loss: 0.5420 - accuracy: 0.0028 - val_loss: 0.5568 - val_accuracy: 0.0044\n",
      "Epoch 8/20\n",
      "363/363 [==============================] - 0s 936us/step - loss: 0.5221 - accuracy: 0.0028 - val_loss: 0.5397 - val_accuracy: 0.0044\n",
      "Epoch 9/20\n",
      "363/363 [==============================] - 0s 944us/step - loss: 0.5047 - accuracy: 0.0028 - val_loss: 0.5258 - val_accuracy: 0.0044\n",
      "Epoch 10/20\n",
      "363/363 [==============================] - 0s 934us/step - loss: 0.4902 - accuracy: 0.0028 - val_loss: 0.5138 - val_accuracy: 0.0044\n",
      "Epoch 11/20\n",
      "363/363 [==============================] - 0s 934us/step - loss: 0.4784 - accuracy: 0.0028 - val_loss: 0.5060 - val_accuracy: 0.0044\n",
      "Epoch 12/20\n",
      "363/363 [==============================] - 0s 939us/step - loss: 0.4680 - accuracy: 0.0028 - val_loss: 0.4963 - val_accuracy: 0.0044\n",
      "Epoch 13/20\n",
      "363/363 [==============================] - 0s 916us/step - loss: 0.4593 - accuracy: 0.0029 - val_loss: 0.4898 - val_accuracy: 0.0044\n",
      "Epoch 14/20\n",
      "363/363 [==============================] - 0s 925us/step - loss: 0.4518 - accuracy: 0.0028 - val_loss: 0.4844 - val_accuracy: 0.0044\n",
      "Epoch 15/20\n",
      "363/363 [==============================] - 0s 934us/step - loss: 0.4453 - accuracy: 0.0028 - val_loss: 0.4778 - val_accuracy: 0.0044\n",
      "Epoch 16/20\n",
      "363/363 [==============================] - 0s 914us/step - loss: 0.4397 - accuracy: 0.0029 - val_loss: 0.4735 - val_accuracy: 0.0044\n",
      "Epoch 17/20\n",
      "363/363 [==============================] - 0s 932us/step - loss: 0.4352 - accuracy: 0.0028 - val_loss: 0.4690 - val_accuracy: 0.0044\n",
      "Epoch 18/20\n",
      "363/363 [==============================] - 0s 923us/step - loss: 0.4313 - accuracy: 0.0028 - val_loss: 0.4661 - val_accuracy: 0.0044\n",
      "Epoch 19/20\n",
      "363/363 [==============================] - 0s 928us/step - loss: 0.4271 - accuracy: 0.0029 - val_loss: 0.4642 - val_accuracy: 0.0044\n",
      "Epoch 20/20\n",
      "363/363 [==============================] - 0s 1ms/step - loss: 0.4246 - accuracy: 0.0028 - val_loss: 0.4610 - val_accuracy: 0.0044\n"
     ]
    }
   ],
   "source": [
    "model = keras.models.Sequential([\n",
    "    keras.layers.Dense(30,activation ='relu',input_shape=X_train.shape[1:]),\n",
    "    keras.layers.Dense(1)    \n",
    "])\n",
    "\n",
    "model.compile(loss='mean_squared_error',optimizer=keras.optimizers.SGD(learning_rate=1e-3),metrics='accuracy')\n",
    "history = model.fit(X_train,y_train,epochs=20,validation_data=(X_valid,y_valid))"
   ]
  },
  {
   "cell_type": "code",
   "execution_count": 11,
   "metadata": {},
   "outputs": [
    {
     "name": "stdout",
     "output_type": "stream",
     "text": [
      "162/162 [==============================] - 0s 857us/step - loss: 0.4263 - accuracy: 0.0021\n"
     ]
    }
   ],
   "source": [
    "mse_test = model.evaluate(X_test,y_test)"
   ]
  },
  {
   "cell_type": "code",
   "execution_count": 13,
   "metadata": {},
   "outputs": [
    {
     "name": "stdout",
     "output_type": "stream",
     "text": [
      "1/1 [==============================] - 0s 87ms/step\n"
     ]
    },
    {
     "data": {
      "text/plain": [
       "array([[0.5947634],\n",
       "       [1.6204587],\n",
       "       [3.604278 ]], dtype=float32)"
      ]
     },
     "execution_count": 13,
     "metadata": {},
     "output_type": "execute_result"
    }
   ],
   "source": [
    "#predict\n",
    "X_new = X_test[:3]\n",
    "y_pred = model.predict(X_new)\n",
    "y_pred"
   ]
  },
  {
   "cell_type": "code",
   "execution_count": 15,
   "metadata": {},
   "outputs": [
    {
     "data": {
      "text/plain": [
       "array([0.477  , 0.458  , 5.00001])"
      ]
     },
     "execution_count": 15,
     "metadata": {},
     "output_type": "execute_result"
    }
   ],
   "source": [
    "y_test[:3]"
   ]
  }
 ],
 "metadata": {
  "kernelspec": {
   "display_name": "Python 3.9.9 ('env': venv)",
   "language": "python",
   "name": "python3"
  },
  "language_info": {
   "codemirror_mode": {
    "name": "ipython",
    "version": 3
   },
   "file_extension": ".py",
   "mimetype": "text/x-python",
   "name": "python",
   "nbconvert_exporter": "python",
   "pygments_lexer": "ipython3",
   "version": "3.9.9"
  },
  "orig_nbformat": 4,
  "vscode": {
   "interpreter": {
    "hash": "b21892ebdafe3dff83e5313b97a9ee6f28f1dc2886ff01f2f955fb4cde4b09b0"
   }
  }
 },
 "nbformat": 4,
 "nbformat_minor": 2
}
