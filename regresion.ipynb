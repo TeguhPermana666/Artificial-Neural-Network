{
 "cells": [
  {
   "cell_type": "code",
   "execution_count": 1,
   "metadata": {},
   "outputs": [],
   "source": [
    "import os \n",
    "import matplotlib.pyplot as plt\n",
    "\n",
    "root = ''\n",
    "chapter_id = 'Regresion'\n",
    "images_path = os.path.join(root, 'images',chapter_id)\n",
    "os.makedirs(images_path,exist_ok=True)\n",
    "\n",
    "def save_fig (fig_id, tigh_layout=True, fig_extension='png',resolution=True):\n",
    "    path = os.path.join(images_path,fig_id + '.'+fig_extension)\n",
    "    print('save figure',fig_id)\n",
    "    if tigh_layout:\n",
    "        plt.tigh_layout()\n",
    "    plt.savefig(path,format=fig_extension,resolution=resolution)"
   ]
  },
  {
   "cell_type": "code",
   "execution_count": 2,
   "metadata": {},
   "outputs": [
    {
     "name": "stdout",
     "output_type": "stream",
     "text": [
      ".. _california_housing_dataset:\n",
      "\n",
      "California Housing dataset\n",
      "--------------------------\n",
      "\n",
      "**Data Set Characteristics:**\n",
      "\n",
      "    :Number of Instances: 20640\n",
      "\n",
      "    :Number of Attributes: 8 numeric, predictive attributes and the target\n",
      "\n",
      "    :Attribute Information:\n",
      "        - MedInc        median income in block group\n",
      "        - HouseAge      median house age in block group\n",
      "        - AveRooms      average number of rooms per household\n",
      "        - AveBedrms     average number of bedrooms per household\n",
      "        - Population    block group population\n",
      "        - AveOccup      average number of household members\n",
      "        - Latitude      block group latitude\n",
      "        - Longitude     block group longitude\n",
      "\n",
      "    :Missing Attribute Values: None\n",
      "\n",
      "This dataset was obtained from the StatLib repository.\n",
      "https://www.dcc.fc.up.pt/~ltorgo/Regression/cal_housing.html\n",
      "\n",
      "The target variable is the median house value for California districts,\n",
      "expressed in hundreds of thousands of dollars ($100,000).\n",
      "\n",
      "This dataset was derived from the 1990 U.S. census, using one row per census\n",
      "block group. A block group is the smallest geographical unit for which the U.S.\n",
      "Census Bureau publishes sample data (a block group typically has a population\n",
      "of 600 to 3,000 people).\n",
      "\n",
      "An household is a group of people residing within a home. Since the average\n",
      "number of rooms and bedrooms in this dataset are provided per household, these\n",
      "columns may take surpinsingly large values for block groups with few households\n",
      "and many empty houses, such as vacation resorts.\n",
      "\n",
      "It can be downloaded/loaded using the\n",
      ":func:`sklearn.datasets.fetch_california_housing` function.\n",
      "\n",
      ".. topic:: References\n",
      "\n",
      "    - Pace, R. Kelley and Ronald Barry, Sparse Spatial Autoregressions,\n",
      "      Statistics and Probability Letters, 33 (1997) 291-297\n",
      "\n"
     ]
    }
   ],
   "source": [
    "# set up \n",
    "import tensorflow as tf\n",
    "import keras\n",
    "import numpy as np\n",
    "import pandas as pd\n",
    "\n",
    "from sklearn.datasets import fetch_california_housing\n",
    "from sklearn.model_selection import train_test_split\n",
    "from sklearn.preprocessing import StandardScaler\n",
    "\n",
    "housing = fetch_california_housing()\n",
    "print(housing['DESCR'])"
   ]
  },
  {
   "cell_type": "code",
   "execution_count": 3,
   "metadata": {},
   "outputs": [],
   "source": [
    "# split data ke train & test\n",
    "X_train_full, X_test, y_train_full, y_test = train_test_split(housing['data'],housing['target'],random_state=42)\n",
    "# split data train ke valid dan train\n",
    "X_train, X_valid, y_train, y_valid = train_test_split(X_train_full,y_train_full,random_state=42)\n",
    "\n",
    "scaler = StandardScaler()\n",
    "X_train = scaler.fit_transform(X_train)\n",
    "X_valid = scaler.fit_transform(X_valid)\n",
    "X_test = scaler.fit_transform(X_test)"
   ]
  },
  {
   "cell_type": "code",
   "execution_count": 4,
   "metadata": {},
   "outputs": [
    {
     "data": {
      "text/plain": [
       "array([4.526, 3.585, 3.521, ..., 0.923, 0.847, 0.894])"
      ]
     },
     "execution_count": 4,
     "metadata": {},
     "output_type": "execute_result"
    }
   ],
   "source": [
    "housing['target']"
   ]
  },
  {
   "cell_type": "code",
   "execution_count": 16,
   "metadata": {},
   "outputs": [
    {
     "name": "stdout",
     "output_type": "stream",
     "text": [
      "(15480, 8)\n",
      "(15480,)\n",
      "(5160, 8)\n",
      "(5160,)\n",
      "(20640, 8)\n",
      "(20640,)\n"
     ]
    }
   ],
   "source": [
    "#housing di split ke dalam train dan testing\n",
    "print(X_train_full.shape)\n",
    "print(y_train_full.shape)\n",
    "print(X_test.shape)\n",
    "print(y_test.shape)\n",
    "print(housing['data'].shape)\n",
    "print(housing['target'].shape)"
   ]
  },
  {
   "cell_type": "code",
   "execution_count": null,
   "metadata": {},
   "outputs": [],
   "source": [
    "#housing train data di split "
   ]
  },
  {
   "cell_type": "code",
   "execution_count": 5,
   "metadata": {},
   "outputs": [],
   "source": [
    "np.random.seed(42)\n",
    "tf.random.set_seed(42)"
   ]
  },
  {
   "cell_type": "code",
   "execution_count": 6,
   "metadata": {},
   "outputs": [
    {
     "name": "stdout",
     "output_type": "stream",
     "text": [
      "Epoch 1/20\n",
      "363/363 [==============================] - 2s 1ms/step - loss: 1.6419 - accuracy: 0.0028 - val_loss: 0.8077 - val_accuracy: 0.0044\n",
      "Epoch 2/20\n",
      "363/363 [==============================] - 0s 865us/step - loss: 0.7047 - accuracy: 0.0029 - val_loss: 0.6736 - val_accuracy: 0.0044\n",
      "Epoch 3/20\n",
      "363/363 [==============================] - 0s 858us/step - loss: 0.6345 - accuracy: 0.0029 - val_loss: 0.6243 - val_accuracy: 0.0044\n",
      "Epoch 4/20\n",
      "363/363 [==============================] - 0s 856us/step - loss: 0.5977 - accuracy: 0.0029 - val_loss: 0.5977 - val_accuracy: 0.0044\n",
      "Epoch 5/20\n",
      "363/363 [==============================] - 0s 857us/step - loss: 0.5706 - accuracy: 0.0029 - val_loss: 0.5708 - val_accuracy: 0.0044\n",
      "Epoch 6/20\n",
      "363/363 [==============================] - 0s 887us/step - loss: 0.5472 - accuracy: 0.0029 - val_loss: 0.5538 - val_accuracy: 0.0044\n",
      "Epoch 7/20\n",
      "363/363 [==============================] - 0s 862us/step - loss: 0.5288 - accuracy: 0.0029 - val_loss: 0.5370 - val_accuracy: 0.0044\n",
      "Epoch 8/20\n",
      "363/363 [==============================] - 0s 860us/step - loss: 0.5130 - accuracy: 0.0029 - val_loss: 0.5257 - val_accuracy: 0.0044\n",
      "Epoch 9/20\n",
      "363/363 [==============================] - 0s 855us/step - loss: 0.4992 - accuracy: 0.0029 - val_loss: 0.5142 - val_accuracy: 0.0044\n",
      "Epoch 10/20\n",
      "363/363 [==============================] - 0s 851us/step - loss: 0.4875 - accuracy: 0.0029 - val_loss: 0.5040 - val_accuracy: 0.0044\n",
      "Epoch 11/20\n",
      "363/363 [==============================] - 0s 860us/step - loss: 0.4777 - accuracy: 0.0029 - val_loss: 0.4977 - val_accuracy: 0.0044\n",
      "Epoch 12/20\n",
      "363/363 [==============================] - 0s 856us/step - loss: 0.4688 - accuracy: 0.0029 - val_loss: 0.4894 - val_accuracy: 0.0044\n",
      "Epoch 13/20\n",
      "363/363 [==============================] - 0s 859us/step - loss: 0.4615 - accuracy: 0.0029 - val_loss: 0.4848 - val_accuracy: 0.0044\n",
      "Epoch 14/20\n",
      "363/363 [==============================] - 0s 854us/step - loss: 0.4547 - accuracy: 0.0029 - val_loss: 0.4804 - val_accuracy: 0.0044\n",
      "Epoch 15/20\n",
      "363/363 [==============================] - 0s 856us/step - loss: 0.4488 - accuracy: 0.0029 - val_loss: 0.4747 - val_accuracy: 0.0044\n",
      "Epoch 16/20\n",
      "363/363 [==============================] - 0s 862us/step - loss: 0.4435 - accuracy: 0.0029 - val_loss: 0.4713 - val_accuracy: 0.0044\n",
      "Epoch 17/20\n",
      "363/363 [==============================] - 0s 850us/step - loss: 0.4389 - accuracy: 0.0029 - val_loss: 0.4672 - val_accuracy: 0.0044\n",
      "Epoch 18/20\n",
      "363/363 [==============================] - 0s 856us/step - loss: 0.4347 - accuracy: 0.0028 - val_loss: 0.4642 - val_accuracy: 0.0044\n",
      "Epoch 19/20\n",
      "363/363 [==============================] - 0s 856us/step - loss: 0.4306 - accuracy: 0.0028 - val_loss: 0.4629 - val_accuracy: 0.0044\n",
      "Epoch 20/20\n",
      "363/363 [==============================] - 0s 862us/step - loss: 0.4273 - accuracy: 0.0028 - val_loss: 0.4603 - val_accuracy: 0.0044\n"
     ]
    }
   ],
   "source": [
    "model = keras.models.Sequential([\n",
    "    keras.layers.Dense(30,activation ='relu',input_shape=X_train.shape[1:]),\n",
    "    keras.layers.Dense(1)    \n",
    "])\n",
    "\n",
    "model.compile(loss='mean_squared_error',optimizer=keras.optimizers.SGD(learning_rate=1e-3),metrics='accuracy')\n",
    "history = model.fit(X_train,y_train,epochs=20,validation_data=(X_valid,y_valid))"
   ]
  },
  {
   "cell_type": "code",
   "execution_count": 7,
   "metadata": {},
   "outputs": [
    {
     "name": "stdout",
     "output_type": "stream",
     "text": [
      "162/162 [==============================] - 0s 596us/step - loss: 0.4190 - accuracy: 0.0021\n"
     ]
    }
   ],
   "source": [
    "mse_test = model.evaluate(X_test,y_test)"
   ]
  },
  {
   "cell_type": "code",
   "execution_count": 8,
   "metadata": {},
   "outputs": [
    {
     "name": "stdout",
     "output_type": "stream",
     "text": [
      "1/1 [==============================] - 0s 79ms/step\n"
     ]
    },
    {
     "data": {
      "text/plain": [
       "array([[0.3276103],\n",
       "       [1.7185786],\n",
       "       [3.3415678]], dtype=float32)"
      ]
     },
     "execution_count": 8,
     "metadata": {},
     "output_type": "execute_result"
    }
   ],
   "source": [
    "#predict\n",
    "X_new = X_test[:3]\n",
    "y_pred = model.predict(X_new)\n",
    "y_pred"
   ]
  },
  {
   "cell_type": "code",
   "execution_count": 9,
   "metadata": {},
   "outputs": [
    {
     "data": {
      "text/plain": [
       "array([0.477  , 0.458  , 5.00001])"
      ]
     },
     "execution_count": 9,
     "metadata": {},
     "output_type": "execute_result"
    }
   ],
   "source": [
    "y_test[:3]"
   ]
  },
  {
   "cell_type": "code",
   "execution_count": 25,
   "metadata": {},
   "outputs": [
    {
     "data": {
      "text/html": [
       "<div>\n",
       "<style scoped>\n",
       "    .dataframe tbody tr th:only-of-type {\n",
       "        vertical-align: middle;\n",
       "    }\n",
       "\n",
       "    .dataframe tbody tr th {\n",
       "        vertical-align: top;\n",
       "    }\n",
       "\n",
       "    .dataframe thead th {\n",
       "        text-align: right;\n",
       "    }\n",
       "</style>\n",
       "<table border=\"1\" class=\"dataframe\">\n",
       "  <thead>\n",
       "    <tr style=\"text-align: right;\">\n",
       "      <th></th>\n",
       "      <th>loss</th>\n",
       "      <th>accuracy</th>\n",
       "      <th>val_loss</th>\n",
       "      <th>val_accuracy</th>\n",
       "    </tr>\n",
       "  </thead>\n",
       "  <tbody>\n",
       "    <tr>\n",
       "      <th>0</th>\n",
       "      <td>1.641871</td>\n",
       "      <td>0.002756</td>\n",
       "      <td>0.807653</td>\n",
       "      <td>0.004393</td>\n",
       "    </tr>\n",
       "    <tr>\n",
       "      <th>1</th>\n",
       "      <td>0.704697</td>\n",
       "      <td>0.002929</td>\n",
       "      <td>0.673631</td>\n",
       "      <td>0.004393</td>\n",
       "    </tr>\n",
       "    <tr>\n",
       "      <th>2</th>\n",
       "      <td>0.634542</td>\n",
       "      <td>0.002929</td>\n",
       "      <td>0.624266</td>\n",
       "      <td>0.004393</td>\n",
       "    </tr>\n",
       "    <tr>\n",
       "      <th>3</th>\n",
       "      <td>0.597736</td>\n",
       "      <td>0.002929</td>\n",
       "      <td>0.597663</td>\n",
       "      <td>0.004393</td>\n",
       "    </tr>\n",
       "    <tr>\n",
       "      <th>4</th>\n",
       "      <td>0.570629</td>\n",
       "      <td>0.002929</td>\n",
       "      <td>0.570844</td>\n",
       "      <td>0.004393</td>\n",
       "    </tr>\n",
       "    <tr>\n",
       "      <th>5</th>\n",
       "      <td>0.547246</td>\n",
       "      <td>0.002929</td>\n",
       "      <td>0.553816</td>\n",
       "      <td>0.004393</td>\n",
       "    </tr>\n",
       "    <tr>\n",
       "      <th>6</th>\n",
       "      <td>0.528757</td>\n",
       "      <td>0.002929</td>\n",
       "      <td>0.536956</td>\n",
       "      <td>0.004393</td>\n",
       "    </tr>\n",
       "    <tr>\n",
       "      <th>7</th>\n",
       "      <td>0.513012</td>\n",
       "      <td>0.002929</td>\n",
       "      <td>0.525667</td>\n",
       "      <td>0.004393</td>\n",
       "    </tr>\n",
       "    <tr>\n",
       "      <th>8</th>\n",
       "      <td>0.499158</td>\n",
       "      <td>0.002929</td>\n",
       "      <td>0.514190</td>\n",
       "      <td>0.004393</td>\n",
       "    </tr>\n",
       "    <tr>\n",
       "      <th>9</th>\n",
       "      <td>0.487499</td>\n",
       "      <td>0.002929</td>\n",
       "      <td>0.504004</td>\n",
       "      <td>0.004393</td>\n",
       "    </tr>\n",
       "    <tr>\n",
       "      <th>10</th>\n",
       "      <td>0.477734</td>\n",
       "      <td>0.002929</td>\n",
       "      <td>0.497688</td>\n",
       "      <td>0.004393</td>\n",
       "    </tr>\n",
       "    <tr>\n",
       "      <th>11</th>\n",
       "      <td>0.468763</td>\n",
       "      <td>0.002929</td>\n",
       "      <td>0.489350</td>\n",
       "      <td>0.004393</td>\n",
       "    </tr>\n",
       "    <tr>\n",
       "      <th>12</th>\n",
       "      <td>0.461510</td>\n",
       "      <td>0.002929</td>\n",
       "      <td>0.484831</td>\n",
       "      <td>0.004393</td>\n",
       "    </tr>\n",
       "    <tr>\n",
       "      <th>13</th>\n",
       "      <td>0.454718</td>\n",
       "      <td>0.002929</td>\n",
       "      <td>0.480385</td>\n",
       "      <td>0.004393</td>\n",
       "    </tr>\n",
       "    <tr>\n",
       "      <th>14</th>\n",
       "      <td>0.448771</td>\n",
       "      <td>0.002929</td>\n",
       "      <td>0.474707</td>\n",
       "      <td>0.004393</td>\n",
       "    </tr>\n",
       "    <tr>\n",
       "      <th>15</th>\n",
       "      <td>0.443471</td>\n",
       "      <td>0.002929</td>\n",
       "      <td>0.471332</td>\n",
       "      <td>0.004393</td>\n",
       "    </tr>\n",
       "    <tr>\n",
       "      <th>16</th>\n",
       "      <td>0.438877</td>\n",
       "      <td>0.002929</td>\n",
       "      <td>0.467211</td>\n",
       "      <td>0.004393</td>\n",
       "    </tr>\n",
       "    <tr>\n",
       "      <th>17</th>\n",
       "      <td>0.434657</td>\n",
       "      <td>0.002842</td>\n",
       "      <td>0.464209</td>\n",
       "      <td>0.004393</td>\n",
       "    </tr>\n",
       "    <tr>\n",
       "      <th>18</th>\n",
       "      <td>0.430618</td>\n",
       "      <td>0.002842</td>\n",
       "      <td>0.462881</td>\n",
       "      <td>0.004393</td>\n",
       "    </tr>\n",
       "    <tr>\n",
       "      <th>19</th>\n",
       "      <td>0.427323</td>\n",
       "      <td>0.002842</td>\n",
       "      <td>0.460256</td>\n",
       "      <td>0.004393</td>\n",
       "    </tr>\n",
       "  </tbody>\n",
       "</table>\n",
       "</div>"
      ],
      "text/plain": [
       "        loss  accuracy  val_loss  val_accuracy\n",
       "0   1.641871  0.002756  0.807653      0.004393\n",
       "1   0.704697  0.002929  0.673631      0.004393\n",
       "2   0.634542  0.002929  0.624266      0.004393\n",
       "3   0.597736  0.002929  0.597663      0.004393\n",
       "4   0.570629  0.002929  0.570844      0.004393\n",
       "5   0.547246  0.002929  0.553816      0.004393\n",
       "6   0.528757  0.002929  0.536956      0.004393\n",
       "7   0.513012  0.002929  0.525667      0.004393\n",
       "8   0.499158  0.002929  0.514190      0.004393\n",
       "9   0.487499  0.002929  0.504004      0.004393\n",
       "10  0.477734  0.002929  0.497688      0.004393\n",
       "11  0.468763  0.002929  0.489350      0.004393\n",
       "12  0.461510  0.002929  0.484831      0.004393\n",
       "13  0.454718  0.002929  0.480385      0.004393\n",
       "14  0.448771  0.002929  0.474707      0.004393\n",
       "15  0.443471  0.002929  0.471332      0.004393\n",
       "16  0.438877  0.002929  0.467211      0.004393\n",
       "17  0.434657  0.002842  0.464209      0.004393\n",
       "18  0.430618  0.002842  0.462881      0.004393\n",
       "19  0.427323  0.002842  0.460256      0.004393"
      ]
     },
     "execution_count": 25,
     "metadata": {},
     "output_type": "execute_result"
    }
   ],
   "source": [
    "data=pd.DataFrame(history.history)\n",
    "data"
   ]
  },
  {
   "cell_type": "code",
   "execution_count": 23,
   "metadata": {},
   "outputs": [
    {
     "data": {
      "image/png": "[encoded data removed]",
      "text/plain": [
       "<Figure size 432x288 with 1 Axes>"
      ]
     },
     "metadata": {
      "needs_background": "light"
     },
     "output_type": "display_data"
    }
   ],
   "source": [
    "plt.plot(pd.DataFrame(history.history))\n",
    "plt.grid(True)\n",
    "plt.gca().set_ylim(0,1)\n",
    "plt.show()"
   ]
  },
  {
   "cell_type": "markdown",
   "metadata": {},
   "source": [
    "# FUNCTIONAL API"
   ]
  },
  {
   "cell_type": "markdown",
   "metadata": {},
   "source": [
    "Pada sebuah classification dia menggunakan output layer sebanyak n-jumlah klasifikasi dengan kalkulasi sesuai fungsi aktivasi dengan loss function adalah sebuha cross entropy \n",
    "\n",
    "TAPI\n",
    "\n",
    "regresion dia menggunakan single output layer dengan tidak menggunakan fungsi aktivasi yang mana loss function mengguanakn mean squared error"
   ]
  },
  {
   "cell_type": "code",
   "execution_count": 26,
   "metadata": {},
   "outputs": [],
   "source": [
    "np.random.seed(42)\n",
    "tf.random.set_seed(42)"
   ]
  },
  {
   "cell_type": "code",
   "execution_count": 35,
   "metadata": {},
   "outputs": [],
   "source": [
    "# deep pola\n",
    "input_ = keras.layers.Input(shape=X_train.shape[1:])#Feature => input\n",
    "# sebuah input_ di call like a function passing it input\n",
    "hidden1 = keras.layers.Dense(30, activation ='relu')(input_)\n",
    "# sebuah hidden1 di call like a function passing it input \n",
    "hidden2 = keras.layers.Dense(30,activation = 'relu')(hidden1)\n",
    "# make the concat layers for concate the hidden layers\n",
    "\n",
    "# concat = wide pola , deep pola\n",
    "concat = keras.layers.Concatenate()([input_,hidden2])\n",
    "\n",
    "# output layers = take two pola\n",
    "output = keras.layers.Dense(1)(concat)\n",
    "\n",
    "# create model\n",
    "model= keras.Model(inputs=[input_],outputs=[output])\n"
   ]
  },
  {
   "cell_type": "code",
   "execution_count": 38,
   "metadata": {},
   "outputs": [
    {
     "name": "stdout",
     "output_type": "stream",
     "text": [
      "Epoch 1/10\n",
      "363/363 [==============================] - 1s 1ms/step - loss: 1.8422 - accuracy: 0.0028 - val_loss: 0.7855 - val_accuracy: 0.0044\n",
      "Epoch 2/10\n",
      "363/363 [==============================] - 0s 1ms/step - loss: 0.7258 - accuracy: 0.0029 - val_loss: 0.6893 - val_accuracy: 0.0044\n",
      "Epoch 3/10\n",
      "363/363 [==============================] - 0s 986us/step - loss: 0.6472 - accuracy: 0.0029 - val_loss: 0.6295 - val_accuracy: 0.0044\n",
      "Epoch 4/10\n",
      "363/363 [==============================] - 0s 983us/step - loss: 0.5944 - accuracy: 0.0029 - val_loss: 0.5954 - val_accuracy: 0.0044\n",
      "Epoch 5/10\n",
      "363/363 [==============================] - 0s 970us/step - loss: 0.5538 - accuracy: 0.0029 - val_loss: 0.5587 - val_accuracy: 0.0044\n",
      "Epoch 6/10\n",
      "363/363 [==============================] - 0s 964us/step - loss: 0.5217 - accuracy: 0.0029 - val_loss: 0.5367 - val_accuracy: 0.0044\n",
      "Epoch 7/10\n",
      "363/363 [==============================] - 0s 972us/step - loss: 0.4970 - accuracy: 0.0029 - val_loss: 0.5165 - val_accuracy: 0.0044\n",
      "Epoch 8/10\n",
      "363/363 [==============================] - 0s 992us/step - loss: 0.4784 - accuracy: 0.0029 - val_loss: 0.5024 - val_accuracy: 0.0044\n",
      "Epoch 9/10\n",
      "363/363 [==============================] - 0s 1ms/step - loss: 0.4633 - accuracy: 0.0029 - val_loss: 0.4907 - val_accuracy: 0.0044\n",
      "Epoch 10/10\n",
      "363/363 [==============================] - 0s 989us/step - loss: 0.4515 - accuracy: 0.0029 - val_loss: 0.4801 - val_accuracy: 0.0044\n"
     ]
    }
   ],
   "source": [
    "model.compile(loss='mean_squared_error',optimizer=keras.optimizers.SGD(learning_rate=1e-3),metrics='accuracy')\n",
    "history=model.fit(X_train,y_train,epochs=10,validation_data=[X_valid,y_valid])"
   ]
  },
  {
   "cell_type": "code",
   "execution_count": 40,
   "metadata": {},
   "outputs": [
    {
     "data": {
      "text/html": [
       "<div>\n",
       "<style scoped>\n",
       "    .dataframe tbody tr th:only-of-type {\n",
       "        vertical-align: middle;\n",
       "    }\n",
       "\n",
       "    .dataframe tbody tr th {\n",
       "        vertical-align: top;\n",
       "    }\n",
       "\n",
       "    .dataframe thead th {\n",
       "        text-align: right;\n",
       "    }\n",
       "</style>\n",
       "<table border=\"1\" class=\"dataframe\">\n",
       "  <thead>\n",
       "    <tr style=\"text-align: right;\">\n",
       "      <th></th>\n",
       "      <th>loss</th>\n",
       "      <th>accuracy</th>\n",
       "      <th>val_loss</th>\n",
       "      <th>val_accuracy</th>\n",
       "    </tr>\n",
       "  </thead>\n",
       "  <tbody>\n",
       "    <tr>\n",
       "      <th>0</th>\n",
       "      <td>1.842244</td>\n",
       "      <td>0.002842</td>\n",
       "      <td>0.785489</td>\n",
       "      <td>0.004393</td>\n",
       "    </tr>\n",
       "    <tr>\n",
       "      <th>1</th>\n",
       "      <td>0.725798</td>\n",
       "      <td>0.002929</td>\n",
       "      <td>0.689284</td>\n",
       "      <td>0.004393</td>\n",
       "    </tr>\n",
       "    <tr>\n",
       "      <th>2</th>\n",
       "      <td>0.647216</td>\n",
       "      <td>0.002929</td>\n",
       "      <td>0.629541</td>\n",
       "      <td>0.004393</td>\n",
       "    </tr>\n",
       "    <tr>\n",
       "      <th>3</th>\n",
       "      <td>0.594412</td>\n",
       "      <td>0.002929</td>\n",
       "      <td>0.595374</td>\n",
       "      <td>0.004393</td>\n",
       "    </tr>\n",
       "    <tr>\n",
       "      <th>4</th>\n",
       "      <td>0.553823</td>\n",
       "      <td>0.002929</td>\n",
       "      <td>0.558656</td>\n",
       "      <td>0.004393</td>\n",
       "    </tr>\n",
       "    <tr>\n",
       "      <th>5</th>\n",
       "      <td>0.521708</td>\n",
       "      <td>0.002929</td>\n",
       "      <td>0.536738</td>\n",
       "      <td>0.004393</td>\n",
       "    </tr>\n",
       "    <tr>\n",
       "      <th>6</th>\n",
       "      <td>0.497048</td>\n",
       "      <td>0.002929</td>\n",
       "      <td>0.516545</td>\n",
       "      <td>0.004393</td>\n",
       "    </tr>\n",
       "    <tr>\n",
       "      <th>7</th>\n",
       "      <td>0.478368</td>\n",
       "      <td>0.002929</td>\n",
       "      <td>0.502409</td>\n",
       "      <td>0.004393</td>\n",
       "    </tr>\n",
       "    <tr>\n",
       "      <th>8</th>\n",
       "      <td>0.463349</td>\n",
       "      <td>0.002929</td>\n",
       "      <td>0.490693</td>\n",
       "      <td>0.004393</td>\n",
       "    </tr>\n",
       "    <tr>\n",
       "      <th>9</th>\n",
       "      <td>0.451512</td>\n",
       "      <td>0.002929</td>\n",
       "      <td>0.480058</td>\n",
       "      <td>0.004393</td>\n",
       "    </tr>\n",
       "  </tbody>\n",
       "</table>\n",
       "</div>"
      ],
      "text/plain": [
       "       loss  accuracy  val_loss  val_accuracy\n",
       "0  1.842244  0.002842  0.785489      0.004393\n",
       "1  0.725798  0.002929  0.689284      0.004393\n",
       "2  0.647216  0.002929  0.629541      0.004393\n",
       "3  0.594412  0.002929  0.595374      0.004393\n",
       "4  0.553823  0.002929  0.558656      0.004393\n",
       "5  0.521708  0.002929  0.536738      0.004393\n",
       "6  0.497048  0.002929  0.516545      0.004393\n",
       "7  0.478368  0.002929  0.502409      0.004393\n",
       "8  0.463349  0.002929  0.490693      0.004393\n",
       "9  0.451512  0.002929  0.480058      0.004393"
      ]
     },
     "execution_count": 40,
     "metadata": {},
     "output_type": "execute_result"
    }
   ],
   "source": [
    "pd.DataFrame(history.history)"
   ]
  }
 ],
 "metadata": {
  "kernelspec": {
   "display_name": "Python 3.9.9 ('env': venv)",
   "language": "python",
   "name": "python3"
  },
  "language_info": {
   "codemirror_mode": {
    "name": "ipython",
    "version": 3
   },
   "file_extension": ".py",
   "mimetype": "text/x-python",
   "name": "python",
   "nbconvert_exporter": "python",
   "pygments_lexer": "ipython3",
   "version": "3.9.9"
  },
  "orig_nbformat": 4,
  "vscode": {
   "interpreter": {
    "hash": "b21892ebdafe3dff83e5313b97a9ee6f28f1dc2886ff01f2f955fb4cde4b09b0"
   }
  }
 },
 "nbformat": 4,
 "nbformat_minor": 2
}
