{
 "cells": [
  {
   "cell_type": "code",
   "execution_count": 1,
   "metadata": {},
   "outputs": [],
   "source": [
    "# set up\n",
    "import os\n",
    "import matplotlib.pyplot as plt\n",
    "root = \"\"\n",
    "chapter_id =\"Tuning\"\n",
    "# path of folder\n",
    "images_path = os.path.join(root,\"images\",chapter_id)\n",
    "os.makedirs(images_path,exist_ok=True)\n",
    "def save_fig(fig_id,tigh_layout,fig_extension=\"png\",resolution=True):\n",
    "    # path until file name\n",
    "    path = os.path.join(images_path,fig_id + \".\" +fig_extension)\n",
    "    print(\"save figure\",fig_id)\n",
    "    if tigh_layout:\n",
    "        plt.tight_layout()\n",
    "    plt.savefig(path,fig_extension=fig_extension,resolution=resolution)\n",
    " "
   ]
  },
  {
   "cell_type": "code",
   "execution_count": 2,
   "metadata": {},
   "outputs": [
    {
     "name": "stdout",
     "output_type": "stream",
     "text": [
      ".. _california_housing_dataset:\n",
      "\n",
      "California Housing dataset\n",
      "--------------------------\n",
      "\n",
      "**Data Set Characteristics:**\n",
      "\n",
      "    :Number of Instances: 20640\n",
      "\n",
      "    :Number of Attributes: 8 numeric, predictive attributes and the target\n",
      "\n",
      "    :Attribute Information:\n",
      "        - MedInc        median income in block group\n",
      "        - HouseAge      median house age in block group\n",
      "        - AveRooms      average number of rooms per household\n",
      "        - AveBedrms     average number of bedrooms per household\n",
      "        - Population    block group population\n",
      "        - AveOccup      average number of household members\n",
      "        - Latitude      block group latitude\n",
      "        - Longitude     block group longitude\n",
      "\n",
      "    :Missing Attribute Values: None\n",
      "\n",
      "This dataset was obtained from the StatLib repository.\n",
      "https://www.dcc.fc.up.pt/~ltorgo/Regression/cal_housing.html\n",
      "\n",
      "The target variable is the median house value for California districts,\n",
      "expressed in hundreds of thousands of dollars ($100,000).\n",
      "\n",
      "This dataset was derived from the 1990 U.S. census, using one row per census\n",
      "block group. A block group is the smallest geographical unit for which the U.S.\n",
      "Census Bureau publishes sample data (a block group typically has a population\n",
      "of 600 to 3,000 people).\n",
      "\n",
      "An household is a group of people residing within a home. Since the average\n",
      "number of rooms and bedrooms in this dataset are provided per household, these\n",
      "columns may take surpinsingly large values for block groups with few households\n",
      "and many empty houses, such as vacation resorts.\n",
      "\n",
      "It can be downloaded/loaded using the\n",
      ":func:`sklearn.datasets.fetch_california_housing` function.\n",
      "\n",
      ".. topic:: References\n",
      "\n",
      "    - Pace, R. Kelley and Ronald Barry, Sparse Spatial Autoregressions,\n",
      "      Statistics and Probability Letters, 33 (1997) 291-297\n",
      "\n"
     ]
    }
   ],
   "source": [
    "# load data set\n",
    "import tensorflow as tf \n",
    "import keras\n",
    "import numpy as np\n",
    "import pandas as pd\n",
    "from sklearn.datasets import fetch_california_housing\n",
    "from sklearn.model_selection import train_test_split\n",
    "from sklearn.preprocessing import StandardScaler\n",
    "\n",
    "housing = fetch_california_housing()\n",
    "print(housing.DESCR)"
   ]
  },
  {
   "cell_type": "code",
   "execution_count": 3,
   "metadata": {},
   "outputs": [],
   "source": [
    "# SPLIT DATA TRAIN FULL AND TESTING \n",
    "X_train_full,X_test,y_train_full,y_test = train_test_split(housing['data'],housing['target'],random_state=42)\n",
    "#SPLIT DATA TRAIN FULL TO TRAIN AND VALIDATION\n",
    "X_train,X_valid,y_train,y_valid = train_test_split(X_train_full,y_train_full,random_state=42)\n",
    "scaler = StandardScaler()\n",
    "X_train = scaler.fit_transform(X_train)\n",
    "X_valid = scaler.fit_transform(X_valid)\n",
    "X_test = scaler.fit_transform(X_test)"
   ]
  },
  {
   "cell_type": "markdown",
   "metadata": {},
   "source": [
    "# Hyperparameter Tuning"
   ]
  },
  {
   "cell_type": "code",
   "execution_count": 4,
   "metadata": {},
   "outputs": [],
   "source": [
    "keras.backend.clear_session()\n",
    "np.random.seed(42)\n",
    "tf.random.set_seed(42)"
   ]
  },
  {
   "cell_type": "code",
   "execution_count": 5,
   "metadata": {},
   "outputs": [],
   "source": [
    "keras.backend.clear_session()\n",
    "np.random.seed(42)\n",
    "tf.random.set_seed(42)"
   ]
  },
  {
   "cell_type": "code",
   "execution_count": 6,
   "metadata": {},
   "outputs": [],
   "source": [
    "# Regresion model\n",
    "def build_model(n_hidden=1, n_neurons=30,learning_rate=3e-3,input_shape=[8]):\n",
    "    model = keras.models.Sequential()\n",
    "    model.add(keras.layers.InputLayer(input_shape=input_shape))\n",
    "    for layer in range(n_hidden):\n",
    "        model.add(keras.layers.Dense(n_neurons,activation='relu'))\n",
    "    model.add(keras.layers.Dense(1))\n",
    "    optimizer = keras.optimizers.SGD(learning_rate=learning_rate)\n",
    "    model.compile(loss='mse',optimizer=optimizer)\n",
    "    return model\n"
   ]
  },
  {
   "cell_type": "code",
   "execution_count": 7,
   "metadata": {},
   "outputs": [
    {
     "name": "stderr",
     "output_type": "stream",
     "text": [
      "C:\\Users\\User\\AppData\\Local\\Temp\\ipykernel_11528\\1709004121.py:1: DeprecationWarning: KerasRegressor is deprecated, use Sci-Keras (https://github.com/adriangb/scikeras) instead. See https://www.adriangb.com/scikeras/stable/migration.html for help migrating.\n",
      "  keras_reg = keras.wrappers.scikit_learn.KerasRegressor(build_model)\n"
     ]
    }
   ],
   "source": [
    "keras_reg = keras.wrappers.scikit_learn.KerasRegressor(build_model)"
   ]
  },
  {
   "cell_type": "code",
   "execution_count": 9,
   "metadata": {},
   "outputs": [
    {
     "name": "stdout",
     "output_type": "stream",
     "text": [
      "Epoch 1/100\n",
      "363/363 [==============================] - 2s 1ms/step - loss: 1.0896 - val_loss: 0.8275\n",
      "Epoch 2/100\n",
      "363/363 [==============================] - 0s 871us/step - loss: 0.7606 - val_loss: 0.6074\n",
      "Epoch 3/100\n",
      "363/363 [==============================] - 0s 858us/step - loss: 0.5456 - val_loss: 0.5189\n",
      "Epoch 4/100\n",
      "363/363 [==============================] - 0s 858us/step - loss: 0.4732 - val_loss: 0.4983\n",
      "Epoch 5/100\n",
      "363/363 [==============================] - 0s 859us/step - loss: 0.4503 - val_loss: 0.4779\n",
      "Epoch 6/100\n",
      "363/363 [==============================] - 0s 856us/step - loss: 0.4338 - val_loss: 0.4677\n",
      "Epoch 7/100\n",
      "363/363 [==============================] - 0s 855us/step - loss: 0.4241 - val_loss: 0.4609\n",
      "Epoch 8/100\n",
      "363/363 [==============================] - 0s 861us/step - loss: 0.4168 - val_loss: 0.4580\n",
      "Epoch 9/100\n",
      "363/363 [==============================] - 0s 862us/step - loss: 0.4108 - val_loss: 0.4497\n",
      "Epoch 10/100\n",
      "363/363 [==============================] - 0s 872us/step - loss: 0.4060 - val_loss: 0.4462\n",
      "Epoch 11/100\n",
      "363/363 [==============================] - 0s 841us/step - loss: 0.4021 - val_loss: 0.4443\n",
      "Epoch 12/100\n",
      "363/363 [==============================] - 0s 871us/step - loss: 0.3984 - val_loss: 0.4421\n",
      "Epoch 13/100\n",
      "363/363 [==============================] - 0s 867us/step - loss: 0.3951 - val_loss: 0.4418\n",
      "Epoch 14/100\n",
      "363/363 [==============================] - 0s 868us/step - loss: 0.3921 - val_loss: 0.4414\n",
      "Epoch 15/100\n",
      "363/363 [==============================] - 0s 863us/step - loss: 0.3894 - val_loss: 0.4371\n",
      "Epoch 16/100\n",
      "363/363 [==============================] - 0s 875us/step - loss: 0.3869 - val_loss: 0.4349\n",
      "Epoch 17/100\n",
      "363/363 [==============================] - 0s 900us/step - loss: 0.3848 - val_loss: 0.4339\n",
      "Epoch 18/100\n",
      "363/363 [==============================] - 0s 872us/step - loss: 0.3829 - val_loss: 0.4337\n",
      "Epoch 19/100\n",
      "363/363 [==============================] - 0s 864us/step - loss: 0.3807 - val_loss: 0.4334\n",
      "Epoch 20/100\n",
      "363/363 [==============================] - 0s 867us/step - loss: 0.3791 - val_loss: 0.4316\n",
      "Epoch 21/100\n",
      "363/363 [==============================] - 0s 855us/step - loss: 0.3774 - val_loss: 0.4336\n",
      "Epoch 22/100\n",
      "363/363 [==============================] - 0s 859us/step - loss: 0.3756 - val_loss: 0.4346\n",
      "Epoch 23/100\n",
      "363/363 [==============================] - 0s 865us/step - loss: 0.3742 - val_loss: 0.4293\n",
      "Epoch 24/100\n",
      "363/363 [==============================] - 0s 859us/step - loss: 0.3725 - val_loss: 0.4320\n",
      "Epoch 25/100\n",
      "363/363 [==============================] - 0s 845us/step - loss: 0.3710 - val_loss: 0.4280\n",
      "Epoch 26/100\n",
      "363/363 [==============================] - 0s 879us/step - loss: 0.3700 - val_loss: 0.4272\n",
      "Epoch 27/100\n",
      "363/363 [==============================] - 0s 862us/step - loss: 0.3691 - val_loss: 0.4268\n",
      "Epoch 28/100\n",
      "363/363 [==============================] - 0s 866us/step - loss: 0.3677 - val_loss: 0.4275\n",
      "Epoch 29/100\n",
      "363/363 [==============================] - 0s 863us/step - loss: 0.3670 - val_loss: 0.4254\n",
      "Epoch 30/100\n",
      "363/363 [==============================] - 0s 859us/step - loss: 0.3653 - val_loss: 0.4268\n",
      "Epoch 31/100\n",
      "363/363 [==============================] - 0s 862us/step - loss: 0.3647 - val_loss: 0.4235\n",
      "Epoch 32/100\n",
      "363/363 [==============================] - 0s 872us/step - loss: 0.3633 - val_loss: 0.4280\n",
      "Epoch 33/100\n",
      "363/363 [==============================] - 0s 883us/step - loss: 0.3632 - val_loss: 0.4238\n",
      "Epoch 34/100\n",
      "363/363 [==============================] - 0s 913us/step - loss: 0.3617 - val_loss: 0.4238\n",
      "Epoch 35/100\n",
      "363/363 [==============================] - 0s 860us/step - loss: 0.3610 - val_loss: 0.4249\n",
      "Epoch 36/100\n",
      "363/363 [==============================] - 0s 861us/step - loss: 0.3608 - val_loss: 0.4239\n",
      "Epoch 37/100\n",
      "363/363 [==============================] - 0s 935us/step - loss: 0.3596 - val_loss: 0.4219\n",
      "Epoch 38/100\n",
      "363/363 [==============================] - 0s 858us/step - loss: 0.3589 - val_loss: 0.4230\n",
      "Epoch 39/100\n",
      "363/363 [==============================] - 0s 865us/step - loss: 0.3582 - val_loss: 0.4209\n",
      "Epoch 40/100\n",
      "363/363 [==============================] - 0s 866us/step - loss: 0.3572 - val_loss: 0.4188\n",
      "Epoch 41/100\n",
      "363/363 [==============================] - 0s 899us/step - loss: 0.3570 - val_loss: 0.4182\n",
      "Epoch 42/100\n",
      "363/363 [==============================] - 0s 863us/step - loss: 0.3563 - val_loss: 0.4188\n",
      "Epoch 43/100\n",
      "363/363 [==============================] - 0s 856us/step - loss: 0.3552 - val_loss: 0.4203\n",
      "Epoch 44/100\n",
      "363/363 [==============================] - 0s 868us/step - loss: 0.3548 - val_loss: 0.4184\n",
      "Epoch 45/100\n",
      "363/363 [==============================] - 0s 870us/step - loss: 0.3543 - val_loss: 0.4178\n",
      "Epoch 46/100\n",
      "363/363 [==============================] - 0s 883us/step - loss: 0.3532 - val_loss: 0.4170\n",
      "Epoch 47/100\n",
      "363/363 [==============================] - 0s 868us/step - loss: 0.3527 - val_loss: 0.4151\n",
      "Epoch 48/100\n",
      "363/363 [==============================] - 0s 862us/step - loss: 0.3521 - val_loss: 0.4143\n",
      "Epoch 49/100\n",
      "363/363 [==============================] - 0s 864us/step - loss: 0.3525 - val_loss: 0.4143\n",
      "Epoch 50/100\n",
      "363/363 [==============================] - 0s 850us/step - loss: 0.3510 - val_loss: 0.4179\n",
      "Epoch 51/100\n",
      "363/363 [==============================] - 0s 859us/step - loss: 0.3504 - val_loss: 0.4149\n",
      "Epoch 52/100\n",
      "363/363 [==============================] - 0s 857us/step - loss: 0.3502 - val_loss: 0.4173\n",
      "Epoch 53/100\n",
      "363/363 [==============================] - 0s 855us/step - loss: 0.3496 - val_loss: 0.4172\n",
      "Epoch 54/100\n",
      "363/363 [==============================] - 0s 858us/step - loss: 0.3497 - val_loss: 0.4141\n",
      "Epoch 55/100\n",
      "363/363 [==============================] - 0s 854us/step - loss: 0.3490 - val_loss: 0.4134\n",
      "Epoch 56/100\n",
      "363/363 [==============================] - 0s 856us/step - loss: 0.3485 - val_loss: 0.4143\n",
      "Epoch 57/100\n",
      "363/363 [==============================] - 0s 864us/step - loss: 0.3479 - val_loss: 0.4136\n",
      "Epoch 58/100\n",
      "363/363 [==============================] - 0s 861us/step - loss: 0.3470 - val_loss: 0.4170\n",
      "Epoch 59/100\n",
      "363/363 [==============================] - 0s 864us/step - loss: 0.3475 - val_loss: 0.4140\n",
      "Epoch 60/100\n",
      "363/363 [==============================] - 0s 861us/step - loss: 0.3465 - val_loss: 0.4145\n",
      "Epoch 61/100\n",
      "363/363 [==============================] - 0s 864us/step - loss: 0.3452 - val_loss: 0.4148\n",
      "Epoch 62/100\n",
      "363/363 [==============================] - 0s 859us/step - loss: 0.3453 - val_loss: 0.4091\n",
      "Epoch 63/100\n",
      "363/363 [==============================] - 0s 860us/step - loss: 0.3444 - val_loss: 0.4150\n",
      "Epoch 64/100\n",
      "363/363 [==============================] - 0s 925us/step - loss: 0.3450 - val_loss: 0.4094\n",
      "Epoch 65/100\n",
      "363/363 [==============================] - 0s 857us/step - loss: 0.3437 - val_loss: 0.4091\n",
      "Epoch 66/100\n",
      "363/363 [==============================] - 0s 868us/step - loss: 0.3431 - val_loss: 0.4130\n",
      "Epoch 67/100\n",
      "363/363 [==============================] - 0s 881us/step - loss: 0.3428 - val_loss: 0.4081\n",
      "Epoch 68/100\n",
      "363/363 [==============================] - 0s 869us/step - loss: 0.3423 - val_loss: 0.4087\n",
      "Epoch 69/100\n",
      "363/363 [==============================] - 0s 866us/step - loss: 0.3419 - val_loss: 0.4104\n",
      "Epoch 70/100\n",
      "363/363 [==============================] - 0s 860us/step - loss: 0.3413 - val_loss: 0.4080\n",
      "Epoch 71/100\n",
      "363/363 [==============================] - 0s 872us/step - loss: 0.3414 - val_loss: 0.4095\n",
      "Epoch 72/100\n",
      "363/363 [==============================] - 0s 865us/step - loss: 0.3405 - val_loss: 0.4099\n",
      "Epoch 73/100\n",
      "363/363 [==============================] - 0s 873us/step - loss: 0.3399 - val_loss: 0.4063\n",
      "Epoch 74/100\n",
      "363/363 [==============================] - 0s 865us/step - loss: 0.3402 - val_loss: 0.4078\n",
      "Epoch 75/100\n",
      "363/363 [==============================] - 0s 869us/step - loss: 0.3397 - val_loss: 0.4145\n",
      "Epoch 76/100\n",
      "363/363 [==============================] - 0s 858us/step - loss: 0.3394 - val_loss: 0.4065\n",
      "Epoch 77/100\n",
      "363/363 [==============================] - 0s 947us/step - loss: 0.3383 - val_loss: 0.4079\n",
      "Epoch 78/100\n",
      "363/363 [==============================] - 0s 887us/step - loss: 0.3384 - val_loss: 0.4095\n",
      "Epoch 79/100\n",
      "363/363 [==============================] - 0s 865us/step - loss: 0.3383 - val_loss: 0.4086\n",
      "Epoch 80/100\n",
      "363/363 [==============================] - 0s 887us/step - loss: 0.3376 - val_loss: 0.4059\n",
      "Epoch 81/100\n",
      "363/363 [==============================] - 0s 891us/step - loss: 0.3384 - val_loss: 0.4035\n",
      "Epoch 82/100\n",
      "363/363 [==============================] - 0s 874us/step - loss: 0.3371 - val_loss: 0.4062\n",
      "Epoch 83/100\n",
      "363/363 [==============================] - 0s 1ms/step - loss: 0.3368 - val_loss: 0.4061\n",
      "Epoch 84/100\n",
      "363/363 [==============================] - 1s 2ms/step - loss: 0.3362 - val_loss: 0.4054\n",
      "Epoch 85/100\n",
      "363/363 [==============================] - 1s 1ms/step - loss: 0.3369 - val_loss: 0.4079\n",
      "Epoch 86/100\n",
      "363/363 [==============================] - 0s 1ms/step - loss: 0.3359 - val_loss: 0.4061\n",
      "Epoch 87/100\n",
      "363/363 [==============================] - 0s 928us/step - loss: 0.3356 - val_loss: 0.4075\n",
      "Epoch 88/100\n",
      "363/363 [==============================] - 0s 899us/step - loss: 0.3358 - val_loss: 0.4036\n",
      "Epoch 89/100\n",
      "363/363 [==============================] - 0s 895us/step - loss: 0.3346 - val_loss: 0.4053\n",
      "Epoch 90/100\n",
      "363/363 [==============================] - 0s 902us/step - loss: 0.3353 - val_loss: 0.4063\n",
      "Epoch 91/100\n",
      "363/363 [==============================] - 0s 900us/step - loss: 0.3340 - val_loss: 0.4094\n"
     ]
    },
    {
     "data": {
      "text/plain": [
       "<keras.callbacks.History at 0x1b98e7ceee0>"
      ]
     },
     "execution_count": 9,
     "metadata": {},
     "output_type": "execute_result"
    }
   ],
   "source": [
    "keras_reg.fit(X_train,y_train,epochs=100,\n",
    "              validation_data=[X_valid,y_valid],\n",
    "              callbacks=[keras.callbacks.EarlyStopping(patience=10)])"
   ]
  },
  {
   "cell_type": "code",
   "execution_count": 10,
   "metadata": {},
   "outputs": [
    {
     "name": "stdout",
     "output_type": "stream",
     "text": [
      "162/162 [==============================] - 0s 696us/step - loss: 0.3718\n"
     ]
    }
   ],
   "source": [
    "mse_test = keras_reg.score(X_test,y_test)"
   ]
  },
  {
   "cell_type": "code",
   "execution_count": 12,
   "metadata": {},
   "outputs": [
    {
     "name": "stdout",
     "output_type": "stream",
     "text": [
      "1/1 [==============================] - 0s 16ms/step\n"
     ]
    },
    {
     "data": {
      "text/plain": [
       "array([0.64688206, 1.642302  , 4.772844  ], dtype=float32)"
      ]
     },
     "execution_count": 12,
     "metadata": {},
     "output_type": "execute_result"
    }
   ],
   "source": [
    "X_new = X_test[:3]\n",
    "y_pred = keras_reg.predict(X_new)\n",
    "y_pred"
   ]
  },
  {
   "cell_type": "code",
   "execution_count": 13,
   "metadata": {},
   "outputs": [
    {
     "data": {
      "text/plain": [
       "array([0.477  , 0.458  , 5.00001])"
      ]
     },
     "execution_count": 13,
     "metadata": {},
     "output_type": "execute_result"
    }
   ],
   "source": [
    "y_test[:3]"
   ]
  },
  {
   "cell_type": "code",
   "execution_count": 16,
   "metadata": {},
   "outputs": [
    {
     "name": "stdout",
     "output_type": "stream",
     "text": [
      "162/162 [==============================] - 0s 814us/step\n"
     ]
    }
   ],
   "source": [
    "y_pred = keras_reg.predict(X_test)"
   ]
  },
  {
   "cell_type": "code",
   "execution_count": 18,
   "metadata": {},
   "outputs": [
    {
     "data": {
      "text/plain": [
       "0.6612818771164024"
      ]
     },
     "execution_count": 18,
     "metadata": {},
     "output_type": "execute_result"
    }
   ],
   "source": [
    "from sklearn.metrics import r2_score\n",
    "r2_score(y_pred,y_test)"
   ]
  },
  {
   "cell_type": "code",
   "execution_count": null,
   "metadata": {},
   "outputs": [],
   "source": [
    "#"
   ]
  }
 ],
 "metadata": {
  "kernelspec": {
   "display_name": "Python 3.9.9 ('env': venv)",
   "language": "python",
   "name": "python3"
  },
  "language_info": {
   "codemirror_mode": {
    "name": "ipython",
    "version": 3
   },
   "file_extension": ".py",
   "mimetype": "text/x-python",
   "name": "python",
   "nbconvert_exporter": "python",
   "pygments_lexer": "ipython3",
   "version": "3.9.9"
  },
  "orig_nbformat": 4,
  "vscode": {
   "interpreter": {
    "hash": "b21892ebdafe3dff83e5313b97a9ee6f28f1dc2886ff01f2f955fb4cde4b09b0"
   }
  }
 },
 "nbformat": 4,
 "nbformat_minor": 2
}
